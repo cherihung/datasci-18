{
 "cells": [
  {
   "cell_type": "markdown",
   "metadata": {},
   "source": [
    "# Uber Exercise - Group 2"
   ]
  },
  {
   "cell_type": "code",
   "execution_count": 4,
   "metadata": {
    "collapsed": false
   },
   "outputs": [],
   "source": [
    "import requests\n",
    "import time #this will prevent us from DDOSing their systems\n",
    "import json\n",
    "import pandas as pd"
   ]
  },
  {
   "cell_type": "code",
   "execution_count": 9,
   "metadata": {
    "collapsed": false
   },
   "outputs": [],
   "source": [
    "def uberPrices(auth_token, start_latitude, start_longitude, end_latitude, end_longitude, seat_count):   \n",
    "    with requests.session() as c:\n",
    "        url = 'https://api.uber.com/v1.2/estimates/price'\n",
    "        query = {'start_latitude':  start_latitude, 'start_longitude': start_longitude, 'end_latitude': end_latitude, 'end_longitude': end_longitude, 'seat_count': seat_count}\n",
    "        headers = {'Accept-Language': 'en_US', 'Content-Type': 'application/json', 'Authorization': 'Token ' + auth_token }\n",
    "        time.sleep(.5)\n",
    "        r = requests.get(url, params=query, headers=headers)\n",
    "        print r.status_code, r.reason, ' - ', r.url\n",
    "        return r\n",
    "\n",
    "def import_response(response, key):\n",
    "    response_as_dict = json.loads(response.content)\n",
    "    if key in response_as_dict:\n",
    "        return pd.read_json(json.dumps(response_as_dict[key]))\n",
    "    else:\n",
    "        return []"
   ]
  },
  {
   "cell_type": "code",
   "execution_count": 11,
   "metadata": {
    "collapsed": false
   },
   "outputs": [
    {
     "name": "stdout",
     "output_type": "stream",
     "text": [
      "200 OK  -  https://api.uber.com/v1.2/estimates/price?start_longitude=-77.034028&end_longitude=-77.103353&start_latitude=38.90487&end_latitude=39.025115&seat_count=2\n",
      "200 OK  -  https://api.uber.com/v1.2/estimates/price?start_longitude=-77.103353&end_longitude=-77.045986&start_latitude=39.025115&end_latitude=38.906454&seat_count=2\n",
      "200 OK  -  https://api.uber.com/v1.2/estimates/price?start_longitude=-77.045986&end_longitude=-77.03848&start_latitude=38.906454&end_latitude=38.93254&seat_count=2\n",
      "200 OK  -  https://api.uber.com/v1.2/estimates/price?start_longitude=-77.03848&end_longitude=-77.065242&start_latitude=38.93254&end_latitude=38.948455&seat_count=2\n",
      "200 OK  -  https://api.uber.com/v1.2/estimates/price?start_longitude=-77.065242&end_longitude=-77.023228&start_latitude=38.948455&end_latitude=38.918398&seat_count=2\n",
      "200 OK  -  https://api.uber.com/v1.2/estimates/price?start_longitude=-77.023228&end_longitude=-77.053913&start_latitude=38.918398&end_latitude=38.927664&seat_count=2\n"
     ]
    },
    {
     "data": {
      "text/html": [
       "<div>\n",
       "<table border=\"1\" class=\"dataframe\">\n",
       "  <thead>\n",
       "    <tr style=\"text-align: right;\">\n",
       "      <th></th>\n",
       "      <th>currency_code</th>\n",
       "      <th>display_name</th>\n",
       "      <th>distance</th>\n",
       "      <th>duration</th>\n",
       "      <th>estimate</th>\n",
       "      <th>high_estimate</th>\n",
       "      <th>localized_display_name</th>\n",
       "      <th>low_estimate</th>\n",
       "      <th>product_id</th>\n",
       "      <th>customer_name</th>\n",
       "    </tr>\n",
       "  </thead>\n",
       "  <tbody>\n",
       "    <tr>\n",
       "      <th>0</th>\n",
       "      <td>USD</td>\n",
       "      <td>uberXL</td>\n",
       "      <td>10.68</td>\n",
       "      <td>1560</td>\n",
       "      <td>$27-34</td>\n",
       "      <td>34.0</td>\n",
       "      <td>uberXL</td>\n",
       "      <td>27.0</td>\n",
       "      <td>9ffa937e-7d2e-4bcf-bc2b-ffec4ef24380</td>\n",
       "      <td>Cheri</td>\n",
       "    </tr>\n",
       "    <tr>\n",
       "      <th>1</th>\n",
       "      <td>USD</td>\n",
       "      <td>uberXL</td>\n",
       "      <td>9.77</td>\n",
       "      <td>1320</td>\n",
       "      <td>$25-32</td>\n",
       "      <td>32.0</td>\n",
       "      <td>uberXL</td>\n",
       "      <td>25.0</td>\n",
       "      <td>9ffa937e-7d2e-4bcf-bc2b-ffec4ef24380</td>\n",
       "      <td>Justin</td>\n",
       "    </tr>\n",
       "    <tr>\n",
       "      <th>2</th>\n",
       "      <td>USD</td>\n",
       "      <td>uberXL</td>\n",
       "      <td>2.14</td>\n",
       "      <td>480</td>\n",
       "      <td>$9-12</td>\n",
       "      <td>12.0</td>\n",
       "      <td>uberXL</td>\n",
       "      <td>9.0</td>\n",
       "      <td>9ffa937e-7d2e-4bcf-bc2b-ffec4ef24380</td>\n",
       "      <td>Dave</td>\n",
       "    </tr>\n",
       "    <tr>\n",
       "      <th>3</th>\n",
       "      <td>USD</td>\n",
       "      <td>uberXL</td>\n",
       "      <td>2.08</td>\n",
       "      <td>420</td>\n",
       "      <td>$8-11</td>\n",
       "      <td>11.0</td>\n",
       "      <td>uberXL</td>\n",
       "      <td>8.0</td>\n",
       "      <td>9ffa937e-7d2e-4bcf-bc2b-ffec4ef24380</td>\n",
       "      <td>Sabanat</td>\n",
       "    </tr>\n",
       "    <tr>\n",
       "      <th>4</th>\n",
       "      <td>USD</td>\n",
       "      <td>uberXL</td>\n",
       "      <td>3.70</td>\n",
       "      <td>660</td>\n",
       "      <td>$12-16</td>\n",
       "      <td>16.0</td>\n",
       "      <td>uberXL</td>\n",
       "      <td>12.0</td>\n",
       "      <td>9ffa937e-7d2e-4bcf-bc2b-ffec4ef24380</td>\n",
       "      <td>Reed</td>\n",
       "    </tr>\n",
       "    <tr>\n",
       "      <th>5</th>\n",
       "      <td>USD</td>\n",
       "      <td>uberXL</td>\n",
       "      <td>2.31</td>\n",
       "      <td>600</td>\n",
       "      <td>$10-13</td>\n",
       "      <td>13.0</td>\n",
       "      <td>uberXL</td>\n",
       "      <td>10.0</td>\n",
       "      <td>9ffa937e-7d2e-4bcf-bc2b-ffec4ef24380</td>\n",
       "      <td>Jia</td>\n",
       "    </tr>\n",
       "  </tbody>\n",
       "</table>\n",
       "</div>"
      ],
      "text/plain": [
       "  currency_code display_name  distance  duration estimate  high_estimate  \\\n",
       "0           USD       uberXL     10.68      1560   $27-34           34.0   \n",
       "1           USD       uberXL      9.77      1320   $25-32           32.0   \n",
       "2           USD       uberXL      2.14       480    $9-12           12.0   \n",
       "3           USD       uberXL      2.08       420    $8-11           11.0   \n",
       "4           USD       uberXL      3.70       660   $12-16           16.0   \n",
       "5           USD       uberXL      2.31       600   $10-13           13.0   \n",
       "\n",
       "  localized_display_name  low_estimate                            product_id  \\\n",
       "0                 uberXL          27.0  9ffa937e-7d2e-4bcf-bc2b-ffec4ef24380   \n",
       "1                 uberXL          25.0  9ffa937e-7d2e-4bcf-bc2b-ffec4ef24380   \n",
       "2                 uberXL           9.0  9ffa937e-7d2e-4bcf-bc2b-ffec4ef24380   \n",
       "3                 uberXL           8.0  9ffa937e-7d2e-4bcf-bc2b-ffec4ef24380   \n",
       "4                 uberXL          12.0  9ffa937e-7d2e-4bcf-bc2b-ffec4ef24380   \n",
       "5                 uberXL          10.0  9ffa937e-7d2e-4bcf-bc2b-ffec4ef24380   \n",
       "\n",
       "  customer_name  \n",
       "0         Cheri  \n",
       "1        Justin  \n",
       "2          Dave  \n",
       "3       Sabanat  \n",
       "4          Reed  \n",
       "5           Jia  "
      ]
     },
     "execution_count": 11,
     "metadata": {},
     "output_type": "execute_result"
    }
   ],
   "source": [
    "startingPoint = {\"GA\": [38.90487,-77.034028]}\n",
    "\n",
    "customer_list = {\"Cheri\": [39.025115,-77.103353], \"Justin\":[38.906454,-77.045986], \"Dave\":[38.93254,-77.03848],\"Sabanat\":[38.948455,-77.065242],\"Reed\":[38.918398,-77.023228],\"Jia\":[38.927664,-77.053913]}\n",
    "merged_list = startingPoint.copy()\n",
    "merged_list.update(customer_list)\n",
    "\n",
    "#make it a series to ensure iteration order since python's dict is unordered. it doesn't keep order upon iterate, weird.\n",
    "persons = pd.Series(merged_list, index=['GA','Cheri', 'Justin', 'Dave', 'Sabanat', 'Reed', 'Jia']) \n",
    "\n",
    "count = 0 \n",
    "countNext = 1\n",
    "maxLen = len(persons)\n",
    "\n",
    "df_uberXL = pd.DataFrame()\n",
    "\n",
    "#loop through for uberXL results\n",
    "for person, location in persons.iteritems():\n",
    "    \n",
    "    if count < maxLen:\n",
    "        if countNext < maxLen-1:\n",
    "            countNext = count + 1\n",
    "            name = list(persons.keys())[countNext] #list to pull out names easily by index\n",
    "            response = uberPrices('PCHhQEbECrygbOjQzsHIwysH3oriDGpxa_WayfrX', persons[count][0], persons[count][1], persons[countNext][0], persons[countNext][1], 2)\n",
    "            \n",
    "            df = import_response(response, 'prices')\n",
    "            df['customer_name'] = name\n",
    "            df_uberXL = pd.concat([df_uberXL, df[df['display_name'] == 'uberXL']]) #just include uberXL estimate\n",
    "        \n",
    "        count = int(count) + 1\n",
    "    \n",
    "df_uberXL.reset_index(inplace=True, drop=True)\n",
    "df_uberXL"
   ]
  },
  {
   "cell_type": "code",
   "execution_count": null,
   "metadata": {
    "collapsed": true
   },
   "outputs": [],
   "source": []
  },
  {
   "cell_type": "code",
   "execution_count": null,
   "metadata": {
    "collapsed": true
   },
   "outputs": [],
   "source": []
  }
 ],
 "metadata": {
  "kernelspec": {
   "display_name": "Python 2",
   "language": "python",
   "name": "python2"
  },
  "language_info": {
   "codemirror_mode": {
    "name": "ipython",
    "version": 2
   },
   "file_extension": ".py",
   "mimetype": "text/x-python",
   "name": "python",
   "nbconvert_exporter": "python",
   "pygments_lexer": "ipython2",
   "version": "2.7.13"
  }
 },
 "nbformat": 4,
 "nbformat_minor": 2
}
