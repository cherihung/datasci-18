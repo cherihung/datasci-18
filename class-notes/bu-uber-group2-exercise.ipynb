{
 "cells": [
  {
   "cell_type": "code",
   "execution_count": 76,
   "metadata": {
    "collapsed": true
   },
   "outputs": [],
   "source": [
    "import requests\n",
    "import pandas as pd\n",
    "import json\n",
    "import time #this will prevent us from DDOSing their systems"
   ]
  },
  {
   "cell_type": "code",
   "execution_count": 77,
   "metadata": {
    "collapsed": false
   },
   "outputs": [],
   "source": [
    "#PCHhQEbECrygbOjQzsHIwysH3oriDGpxa_WayfrX\n",
    "#uberXL function\n",
    "def uberPrices(auth_token, start_latitude, start_longitude, end_latitude, end_longitude, seat_count):   \n",
    "    with requests.session() as c:\n",
    "        url = 'https://api.uber.com/v1.2/estimates/price'\n",
    "        query = {'start_latitude':  start_latitude, 'start_longitude': start_longitude, 'end_latitude': end_latitude, 'end_longitude': end_longitude, 'seat_count': seat_count}\n",
    "        headers = {'Accept-Language': 'en_US', 'Content-Type': 'application/json', 'Authorization': 'Token ' + auth_token }\n",
    "        time.sleep(.5)\n",
    "        r = requests.get(url, params=query, headers=headers)\n",
    "        print r.status_code, r.reason, ' - ', r.url\n",
    "        return r\n",
    "\n",
    "def uberProducts(auth_token, latitude, longitude): \n",
    "    with requests.session() as c:\n",
    "        url = ' https://api.uber.com/v1.2/products'\n",
    "        query = {'latitude':  latitude, 'longitude': longitude}\n",
    "        headers = {'Accept-Language': 'en_US', 'Content-Type': 'application/json', 'Authorization': 'Token ' + auth_token }\n",
    "        time.sleep(.25)\n",
    "        r = requests.get(url, params=query, headers=headers)\n",
    "        print r.status_code, r.reason, ' - ', r.url\n",
    "        return r\n",
    "    \n",
    "def import_response_to_pandas(response):\n",
    "    \"\"\"\n",
    "    For Uber API v1.2.\n",
    "    This function converts a successful API response and returns a pandas dataframe.\n",
    "    If the response was not successful, it returns an empty list.\n",
    "    \"\"\"\n",
    "    response_as_dict = json.loads(response.content)\n",
    "    if 'products' in response_as_dict:\n",
    "        return pd.read_json(json.dumps(response_as_dict['products']))\n",
    "    else:\n",
    "        return []\n",
    "    "
   ]
  },
  {
   "cell_type": "code",
   "execution_count": 140,
   "metadata": {
    "collapsed": false
   },
   "outputs": [
    {
     "name": "stdout",
     "output_type": "stream",
     "text": [
      "      A    A  new\n",
      "GA   A0  NaN  new\n",
      "X    b1  NaN  new\n",
      "Y   NaN   A0  new\n",
      "Z   NaN   c1  new\n",
      "{'Dave': [38.93254, -77.03848], 'Reed': [38.918398, -77.023228], 'Justin': [38.906454, -77.045986], 'GA': [38.90487, -77.034028], 'Jia': [38.927664, -77.053913], 'Sabanat': [38.948455, -77.065242], 'Cheri': [39.025115, -77.103353]}\n"
     ]
    }
   ],
   "source": [
    "#people list\n",
    "persons = {\"GA\": [38.90487,-77.034028], \"Cheri\": [39.025115,-77.103353], \"Justin\":[38.906454,-77.045986], \"Dave\":[38.93254,-77.03848],\"Sabanat\":[38.948455,-77.065242],\"Reed\":[38.918398,-77.023228],\"Jia\":[38.927664,-77.053913]}\n",
    "#persons = {0: [38.90487,-77.034028], 1: [39.025115,-77.103353], 2:[38.906454,-77.045986], 3:[38.93254,-77.03848],4:[38.948455,-77.065242],5:[38.918398,-77.023228],6:[38.927664,-77.053913]}\n",
    "\n",
    "df1 = pd.DataFrame({'A': ['A0', 'b1']},index=['GA', 'X'])\n",
    "  \n",
    "df2 = pd.DataFrame({'A': ['A0', 'c1']},index=['Y', 'Z'])\n",
    " \n",
    "\n",
    "frames = [df1, df2]\n",
    "\n",
    "result = pd.concat(frames, axis=1)\n",
    "\n",
    "result['new'] = 'new'\n",
    "\n",
    "print result.head()\n",
    "\n",
    "raw_list = {\"Cheri\": [39.025115,-77.103353], \"Justin\":[38.906454,-77.045986], \"Dave\":[38.93254,-77.03848],\"Sabanat\":[38.948455,-77.065242],\"Reed\":[38.918398,-77.023228],\"Jia\":[38.927664,-77.053913]}\n",
    "starting_point = {\"GA\": [38.90487,-77.034028]}\n",
    "new_list = starting_point.copy()\n",
    "new_list.update(raw_list)\n",
    "\n",
    "print new_list"
   ]
  },
  {
   "cell_type": "code",
   "execution_count": null,
   "metadata": {
    "collapsed": true
   },
   "outputs": [],
   "source": [
    "raw_list = {\"Cheri\": [39.025115,-77.103353], \"Justin\":[38.906454,-77.045986], \"Dave\":[38.93254,-77.03848],\"Sabanat\":[38.948455,-77.065242],\"Reed\":[38.918398,-77.023228],\"Jia\":[38.927664,-77.053913]}\n",
    "starting_point = {\"GA\": [38.90487,-77.034028]}\n",
    "merged_list = starting_point.copy()\n",
    "merged_list.update(raw_list)\n",
    "persons = pd.Series(merged_list, index=['GA','Cheri', 'Justin', 'Dave', 'Sabanat', 'Reed', 'Jia'])\n",
    "\n",
    "count = 0 \n",
    "countNext = 0\n",
    "maxLen = len(persons)-1\n",
    "\n",
    "df_uberXL = pd.DataFrame()\n",
    "\n",
    "#loop through for uberXL results\n",
    "for person, location in persons.iteritems():   \n",
    "    if count < maxLen:\n",
    "        countNext = count + 1\n",
    "        print countNext\n",
    "        print persons[persons.keys()[countNext]]\n",
    "        print person\n",
    "        #response = uberPrices('PCHhQEbECrygbOjQzsHIwysH3oriDGpxa_WayfrX', persons[persons.keys()[count]][0], persons[persons.keys()[count]][1], persons[persons.keys()[countNext]][0], persons[persons.keys()[countNext]][1], 2)\n",
    "        #df = import_response(response)\n",
    "        #df['customer_name'] = person\n",
    "        #df_uberXL = pd.concat([df_uberXL, df[df['display_name'] == 'uberXL']]) \n",
    "        count = int(count)+1\n",
    "\n",
    "#df_uberXL.reset_index(inplace=True, drop=True)\n",
    "#df_uberXL.head()\n",
    "\n"
   ]
  },
  {
   "cell_type": "code",
   "execution_count": null,
   "metadata": {
    "collapsed": true
   },
   "outputs": [],
   "source": [
    "from collections import OrderedDict\n",
    "raw_list = {\"GA\": [38.90487,-77.034028], \"Cheri\": [39.025115,-77.103353], \"Justin\":[38.906454,-77.045986], \"Dave\":[38.93254,-77.03848],\"Sabanat\":[38.948455,-77.065242],\"Reed\":[38.918398,-77.023228],\"Jia\":[38.927664,-77.053913]}\n",
    "od = OrderedDict()\n",
    "\n",
    "print od\n",
    "\n",
    "count = 0 \n",
    "countNext = 0\n",
    "maxLen = len(persons)-1\n",
    "\n",
    "df_uberXL = pd.DataFrame()\n",
    "\n",
    "#loop through for uberXL results\n",
    "for person in od:  \n",
    "    if count == 0:\n",
    "        print person\n",
    "        #response = uberPrices('PCHhQEbECrygbOjQzsHIwysH3oriDGpxa_WayfrX', persons[persons.keys()[count]][0], persons[persons.keys()[count]][1], persons[persons.keys()[countNext]][0], persons[persons.keys()[countNext]][1], 2)\n",
    "        \n",
    "    if count < maxLen:\n",
    "        countNext = count + 1\n",
    "        #print countNext\n",
    "        #print persons[persons.keys()[countNext]]\n",
    "        #print person\n",
    "        #response = uberPrices('PCHhQEbECrygbOjQzsHIwysH3oriDGpxa_WayfrX', persons[persons.keys()[count]][0], persons[persons.keys()[count]][1], persons[persons.keys()[countNext]][0], persons[persons.keys()[countNext]][1], 2)\n",
    "        #df = import_response(response)\n",
    "        #df['customer_name'] = person\n",
    "        #df_uberXL = pd.concat([df_uberXL, df[df['display_name'] == 'uberXL']]) \n",
    "        count = int(count)+1\n",
    "\n",
    "#df_uberXL.reset_index(inplace=True, drop=True)\n",
    "#df_uberXL.head()\n",
    "\n"
   ]
  },
  {
   "cell_type": "code",
   "execution_count": 178,
   "metadata": {
    "collapsed": false
   },
   "outputs": [
    {
     "name": "stdout",
     "output_type": "stream",
     "text": [
      "banana [4, 2] 1\n",
      "apple 2 2\n",
      "orange 1.5 3\n",
      "pear 3 4\n"
     ]
    }
   ],
   "source": [
    "import collections\n",
    "prices  = collections.OrderedDict((\n",
    "        (\"banana\", [4, 2]),\n",
    "        (\"apple\", 2),\n",
    "        (\"orange\", 1.5),\n",
    "        (\"pear\", 3),\n",
    "))\n",
    "for count, (key, value) in enumerate(prices.iteritems(), 1):\n",
    "    print key, value, count"
   ]
  },
  {
   "cell_type": "code",
   "execution_count": null,
   "metadata": {
    "collapsed": true
   },
   "outputs": [],
   "source": []
  }
 ],
 "metadata": {
  "kernelspec": {
   "display_name": "Python 2",
   "language": "python",
   "name": "python2"
  },
  "language_info": {
   "codemirror_mode": {
    "name": "ipython",
    "version": 2
   },
   "file_extension": ".py",
   "mimetype": "text/x-python",
   "name": "python",
   "nbconvert_exporter": "python",
   "pygments_lexer": "ipython2",
   "version": "2.7.13"
  }
 },
 "nbformat": 4,
 "nbformat_minor": 2
}
