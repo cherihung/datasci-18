{
 "cells": [
  {
   "cell_type": "markdown",
   "metadata": {},
   "source": [
    "# Final Project Part 3 - Cheri Hung\n"
   ]
  },
  {
   "cell_type": "code",
   "execution_count": 25,
   "metadata": {},
   "outputs": [
    {
     "name": "stdout",
     "output_type": "stream",
     "text": [
      "<sqlite3.Connection object at 0x11b0bc200>\n"
     ]
    }
   ],
   "source": [
    "%matplotlib inline\n",
    "\n",
    "import pandas as pd\n",
    "import numpy as np\n",
    "import matplotlib.pyplot as plt\n",
    "import statsmodels.api as sm\n",
    "import pylab as pl\n",
    "import numpy as np\n",
    "import seaborn as sns\n",
    "from pandas.io import sql\n",
    "import sqlite3\n",
    "\n",
    "plt.style.use('ggplot')\n",
    "\n",
    "wd = 'assets/'\n",
    "db_conn = sqlite3.connect(wd+'dev_hung.db')\n",
    "print db_conn"
   ]
  },
  {
   "cell_type": "markdown",
   "metadata": {},
   "source": [
    "## I. Exploratory Analysis"
   ]
  },
  {
   "cell_type": "markdown",
   "metadata": {},
   "source": [
    "### Dataset 1: Ideal Cost vs Actual Cost"
   ]
  },
  {
   "cell_type": "code",
   "execution_count": 43,
   "metadata": {},
   "outputs": [
    {
     "data": {
      "text/html": [
       "<div>\n",
       "<table border=\"1\" class=\"dataframe\">\n",
       "  <thead>\n",
       "    <tr style=\"text-align: right;\">\n",
       "      <th></th>\n",
       "      <th>ProductID</th>\n",
       "      <th>ProductDescription</th>\n",
       "      <th>SUM(V.VarianceQty)</th>\n",
       "      <th>SUM(V.BeginQty)</th>\n",
       "      <th>SUM(V.EndQty)</th>\n",
       "      <th>SUM(V.ActualQty)</th>\n",
       "      <th>SUM(V.IdealQty)</th>\n",
       "      <th>CategoryID</th>\n",
       "      <th>Category</th>\n",
       "      <th>ProductType</th>\n",
       "    </tr>\n",
       "  </thead>\n",
       "  <tbody>\n",
       "    <tr>\n",
       "      <th>0</th>\n",
       "      <td>24</td>\n",
       "      <td>Tomato, Cherry</td>\n",
       "      <td>951.0</td>\n",
       "      <td>2131.5</td>\n",
       "      <td>2131.5</td>\n",
       "      <td>1798.0</td>\n",
       "      <td>900.0</td>\n",
       "      <td>2</td>\n",
       "      <td>Produce</td>\n",
       "      <td>2</td>\n",
       "    </tr>\n",
       "  </tbody>\n",
       "</table>\n",
       "</div>"
      ],
      "text/plain": [
       "   ProductID ProductDescription  SUM(V.VarianceQty)  SUM(V.BeginQty)  \\\n",
       "0         24     Tomato, Cherry               951.0           2131.5   \n",
       "\n",
       "   SUM(V.EndQty)  SUM(V.ActualQty)  SUM(V.IdealQty)  CategoryID Category  \\\n",
       "0         2131.5            1798.0            900.0           2  Produce   \n",
       "\n",
       "  ProductType  \n",
       "0           2  "
      ]
     },
     "execution_count": 43,
     "metadata": {},
     "output_type": "execute_result"
    }
   ],
   "source": [
    "#create dataframe of the main dataset of a SQL View \n",
    "df_IvAC_raw = sql.read_sql('SELECT * FROM vw_IVActualC_productID', con=db_conn)\n",
    "df_IvAC = df_IvAC_raw.dropna()\n",
    "df_IvAC.head(1)"
   ]
  },
  {
   "cell_type": "code",
   "execution_count": 44,
   "metadata": {},
   "outputs": [],
   "source": [
    "#change column names to be readable\n",
    "df_IvAC.columns = ['ProductID', 'Name', 'VarianceQty', 'BeginQty', 'EndQty', 'ActualQty', 'IdealQty', 'CategoryID', 'Category', 'ProductType']"
   ]
  },
  {
   "cell_type": "code",
   "execution_count": 42,
   "metadata": {},
   "outputs": [
    {
     "data": {
      "text/html": [
       "<div>\n",
       "<table border=\"1\" class=\"dataframe\">\n",
       "  <thead>\n",
       "    <tr style=\"text-align: right;\">\n",
       "      <th></th>\n",
       "      <th>ProductID</th>\n",
       "      <th>Name</th>\n",
       "      <th>VarianceQty</th>\n",
       "      <th>BeginQty</th>\n",
       "      <th>EndQty</th>\n",
       "      <th>ActualQty</th>\n",
       "      <th>IdealQty</th>\n",
       "      <th>CategoryID</th>\n",
       "      <th>Category</th>\n",
       "      <th>ProductType</th>\n",
       "    </tr>\n",
       "  </thead>\n",
       "  <tbody>\n",
       "    <tr>\n",
       "      <th>0</th>\n",
       "      <td>24</td>\n",
       "      <td>Tomato, Cherry</td>\n",
       "      <td>951.000</td>\n",
       "      <td>2131.500</td>\n",
       "      <td>2131.500</td>\n",
       "      <td>1798.000</td>\n",
       "      <td>900.0</td>\n",
       "      <td>2</td>\n",
       "      <td>Produce</td>\n",
       "      <td>2</td>\n",
       "    </tr>\n",
       "    <tr>\n",
       "      <th>1</th>\n",
       "      <td>26</td>\n",
       "      <td>Tito's Vodka</td>\n",
       "      <td>-66.556</td>\n",
       "      <td>870.711</td>\n",
       "      <td>1068.523</td>\n",
       "      <td>-62.556</td>\n",
       "      <td>4.0</td>\n",
       "      <td>11</td>\n",
       "      <td>Liquor</td>\n",
       "      <td>1</td>\n",
       "    </tr>\n",
       "    <tr>\n",
       "      <th>2</th>\n",
       "      <td>37</td>\n",
       "      <td>Sutter Home Cabernet Sauvignon</td>\n",
       "      <td>10.144</td>\n",
       "      <td>53.258</td>\n",
       "      <td>73.547</td>\n",
       "      <td>10.144</td>\n",
       "      <td>0.0</td>\n",
       "      <td>10</td>\n",
       "      <td>Wine</td>\n",
       "      <td>1</td>\n",
       "    </tr>\n",
       "  </tbody>\n",
       "</table>\n",
       "</div>"
      ],
      "text/plain": [
       "   ProductID                            Name  VarianceQty  BeginQty    EndQty  \\\n",
       "0         24                  Tomato, Cherry      951.000  2131.500  2131.500   \n",
       "1         26                    Tito's Vodka      -66.556   870.711  1068.523   \n",
       "2         37  Sutter Home Cabernet Sauvignon       10.144    53.258    73.547   \n",
       "\n",
       "   ActualQty  IdealQty  CategoryID Category ProductType  \n",
       "0   1798.000     900.0           2  Produce           2  \n",
       "1    -62.556       4.0          11   Liquor           1  \n",
       "2     10.144       0.0          10     Wine           1  "
      ]
     },
     "execution_count": 42,
     "metadata": {},
     "output_type": "execute_result"
    }
   ],
   "source": [
    "df_IvAC.head(3)"
   ]
  },
  {
   "cell_type": "markdown",
   "metadata": {},
   "source": [
    "| Variable | Description | Type of Variable |\n",
    "|----------|:-------------:|------:|\n",
    "| InventoryID |Identifying inventory ID | discrete numerical ID |\n",
    "| ProductID |Identifying ingredient ID | discrete numerical ID |\n",
    "| Date | Inventory order date | discrete numerical ID |\n",
    "| Name | Ingredient name | text |\n",
    "| VarianceQty | Difference between ActualQty and IdealQty | continous numerical |\n",
    "| BeginQty | Ingredient qty at the beginning of inventory period | continous numerical |\n",
    "| EndQty | Ingredient qty at the end of inventory period | continous numerical |\n",
    "| ActualQty | Difference between BeginQty and EndQty | continous numerical |\n",
    "| IdealQty | What's the expected difference between BeginQty and EndQty | continous numerical |\n",
    "| CategoryID | category id | discrete numerical ID |\n",
    "| Category | category the ingredient belongs to | text |\n",
    "| ProductType | a general product type. 1=liquor, 2=food, 3=other, 4=merchandise | discrete numerical ID |\n",
    "| StoreID | store that data is associated with | discrete numerical ID |\n"
   ]
  },
  {
   "cell_type": "code",
   "execution_count": 46,
   "metadata": {},
   "outputs": [
    {
     "data": {
      "text/html": [
       "<div>\n",
       "<table border=\"1\" class=\"dataframe\">\n",
       "  <thead>\n",
       "    <tr style=\"text-align: right;\">\n",
       "      <th></th>\n",
       "      <th>CategoryID</th>\n",
       "      <th>Category</th>\n",
       "    </tr>\n",
       "  </thead>\n",
       "  <tbody>\n",
       "    <tr>\n",
       "      <th>0</th>\n",
       "      <td>0</td>\n",
       "      <td>NOT ASSIGNED</td>\n",
       "    </tr>\n",
       "    <tr>\n",
       "      <th>1</th>\n",
       "      <td>1</td>\n",
       "      <td>Meat</td>\n",
       "    </tr>\n",
       "    <tr>\n",
       "      <th>2</th>\n",
       "      <td>2</td>\n",
       "      <td>Produce</td>\n",
       "    </tr>\n",
       "    <tr>\n",
       "      <th>3</th>\n",
       "      <td>3</td>\n",
       "      <td>Dairy</td>\n",
       "    </tr>\n",
       "    <tr>\n",
       "      <th>4</th>\n",
       "      <td>4</td>\n",
       "      <td>Other Food</td>\n",
       "    </tr>\n",
       "    <tr>\n",
       "      <th>5</th>\n",
       "      <td>5</td>\n",
       "      <td>Seafood</td>\n",
       "    </tr>\n",
       "    <tr>\n",
       "      <th>6</th>\n",
       "      <td>6</td>\n",
       "      <td>Poultry</td>\n",
       "    </tr>\n",
       "    <tr>\n",
       "      <th>7</th>\n",
       "      <td>7</td>\n",
       "      <td>Bread</td>\n",
       "    </tr>\n",
       "    <tr>\n",
       "      <th>8</th>\n",
       "      <td>8</td>\n",
       "      <td>NA Beverage</td>\n",
       "    </tr>\n",
       "    <tr>\n",
       "      <th>9</th>\n",
       "      <td>9</td>\n",
       "      <td>Beer</td>\n",
       "    </tr>\n",
       "    <tr>\n",
       "      <th>10</th>\n",
       "      <td>10</td>\n",
       "      <td>Wine</td>\n",
       "    </tr>\n",
       "    <tr>\n",
       "      <th>11</th>\n",
       "      <td>11</td>\n",
       "      <td>Liquor</td>\n",
       "    </tr>\n",
       "    <tr>\n",
       "      <th>12</th>\n",
       "      <td>12</td>\n",
       "      <td>Other-CGS</td>\n",
       "    </tr>\n",
       "    <tr>\n",
       "      <th>13</th>\n",
       "      <td>13</td>\n",
       "      <td>Retail</td>\n",
       "    </tr>\n",
       "    <tr>\n",
       "      <th>14</th>\n",
       "      <td>14</td>\n",
       "      <td>Smallwares</td>\n",
       "    </tr>\n",
       "    <tr>\n",
       "      <th>15</th>\n",
       "      <td>15</td>\n",
       "      <td>Chemical</td>\n",
       "    </tr>\n",
       "    <tr>\n",
       "      <th>16</th>\n",
       "      <td>17</td>\n",
       "      <td>Other</td>\n",
       "    </tr>\n",
       "    <tr>\n",
       "      <th>17</th>\n",
       "      <td>18</td>\n",
       "      <td>Paper</td>\n",
       "    </tr>\n",
       "    <tr>\n",
       "      <th>18</th>\n",
       "      <td>19</td>\n",
       "      <td>Uniforms</td>\n",
       "    </tr>\n",
       "    <tr>\n",
       "      <th>19</th>\n",
       "      <td>20</td>\n",
       "      <td>Crawfish</td>\n",
       "    </tr>\n",
       "    <tr>\n",
       "      <th>20</th>\n",
       "      <td>\\n</td>\n",
       "      <td>None</td>\n",
       "    </tr>\n",
       "  </tbody>\n",
       "</table>\n",
       "</div>"
      ],
      "text/plain": [
       "   CategoryID      Category\n",
       "0           0  NOT ASSIGNED\n",
       "1           1          Meat\n",
       "2           2       Produce\n",
       "3           3         Dairy\n",
       "4           4    Other Food\n",
       "5           5       Seafood\n",
       "6           6       Poultry\n",
       "7           7         Bread\n",
       "8           8   NA Beverage\n",
       "9           9          Beer\n",
       "10         10          Wine\n",
       "11         11        Liquor\n",
       "12         12     Other-CGS\n",
       "13         13        Retail\n",
       "14         14    Smallwares\n",
       "15         15      Chemical\n",
       "16         17         Other\n",
       "17         18         Paper\n",
       "18         19      Uniforms\n",
       "19         20      Crawfish\n",
       "20         \\n          None"
      ]
     },
     "execution_count": 46,
     "metadata": {},
     "output_type": "execute_result"
    }
   ],
   "source": [
    "#print categories for reference\n",
    "df_categories = sql.read_sql('SELECT CategoryID, Category FROM Categories', con=db_conn)\n",
    "df_categories"
   ]
  },
  {
   "cell_type": "code",
   "execution_count": 47,
   "metadata": {},
   "outputs": [
    {
     "data": {
      "text/html": [
       "<div>\n",
       "<table border=\"1\" class=\"dataframe\">\n",
       "  <thead>\n",
       "    <tr style=\"text-align: right;\">\n",
       "      <th></th>\n",
       "      <th>ProductID</th>\n",
       "      <th>Name</th>\n",
       "      <th>VarianceQty</th>\n",
       "      <th>BeginQty</th>\n",
       "      <th>EndQty</th>\n",
       "      <th>ActualQty</th>\n",
       "      <th>IdealQty</th>\n",
       "      <th>CategoryID</th>\n",
       "      <th>Category</th>\n",
       "      <th>ProductType</th>\n",
       "    </tr>\n",
       "  </thead>\n",
       "  <tbody>\n",
       "    <tr>\n",
       "      <th>0</th>\n",
       "      <td>24</td>\n",
       "      <td>Tomato, Cherry</td>\n",
       "      <td>951.000</td>\n",
       "      <td>2131.500</td>\n",
       "      <td>2131.500</td>\n",
       "      <td>1798.000</td>\n",
       "      <td>900.000</td>\n",
       "      <td>2</td>\n",
       "      <td>Produce</td>\n",
       "      <td>2</td>\n",
       "    </tr>\n",
       "    <tr>\n",
       "      <th>3</th>\n",
       "      <td>38</td>\n",
       "      <td>Sugar, Bulk</td>\n",
       "      <td>658.030</td>\n",
       "      <td>13716.000</td>\n",
       "      <td>14526.000</td>\n",
       "      <td>990.000</td>\n",
       "      <td>331.970</td>\n",
       "      <td>4</td>\n",
       "      <td>Other Food</td>\n",
       "      <td>2</td>\n",
       "    </tr>\n",
       "    <tr>\n",
       "      <th>4</th>\n",
       "      <td>40</td>\n",
       "      <td>Strawberries, Frozen</td>\n",
       "      <td>-337.440</td>\n",
       "      <td>8060.000</td>\n",
       "      <td>8424.000</td>\n",
       "      <td>260.000</td>\n",
       "      <td>597.440</td>\n",
       "      <td>4</td>\n",
       "      <td>Other Food</td>\n",
       "      <td>2</td>\n",
       "    </tr>\n",
       "    <tr>\n",
       "      <th>5</th>\n",
       "      <td>68</td>\n",
       "      <td>Spice, Flour Seasoning</td>\n",
       "      <td>2.324</td>\n",
       "      <td>159.397</td>\n",
       "      <td>213.379</td>\n",
       "      <td>15.336</td>\n",
       "      <td>229.663</td>\n",
       "      <td>4</td>\n",
       "      <td>Other Food</td>\n",
       "      <td>2</td>\n",
       "    </tr>\n",
       "    <tr>\n",
       "      <th>6</th>\n",
       "      <td>80</td>\n",
       "      <td>Sour Cream</td>\n",
       "      <td>785.200</td>\n",
       "      <td>11239.200</td>\n",
       "      <td>11354.400</td>\n",
       "      <td>2959.200</td>\n",
       "      <td>2219.000</td>\n",
       "      <td>3</td>\n",
       "      <td>Dairy</td>\n",
       "      <td>2</td>\n",
       "    </tr>\n",
       "  </tbody>\n",
       "</table>\n",
       "</div>"
      ],
      "text/plain": [
       "   ProductID                    Name  VarianceQty   BeginQty     EndQty  \\\n",
       "0         24          Tomato, Cherry      951.000   2131.500   2131.500   \n",
       "3         38             Sugar, Bulk      658.030  13716.000  14526.000   \n",
       "4         40    Strawberries, Frozen     -337.440   8060.000   8424.000   \n",
       "5         68  Spice, Flour Seasoning        2.324    159.397    213.379   \n",
       "6         80              Sour Cream      785.200  11239.200  11354.400   \n",
       "\n",
       "   ActualQty  IdealQty  CategoryID    Category ProductType  \n",
       "0   1798.000   900.000           2     Produce           2  \n",
       "3    990.000   331.970           4  Other Food           2  \n",
       "4    260.000   597.440           4  Other Food           2  \n",
       "5     15.336   229.663           4  Other Food           2  \n",
       "6   2959.200  2219.000           3       Dairy           2  "
      ]
     },
     "execution_count": 47,
     "metadata": {},
     "output_type": "execute_result"
    }
   ],
   "source": [
    "ivac_foods = df_IvAC[df_IvAC['ProductType'] == '2']\n",
    "ivac_foods.head()"
   ]
  },
  {
   "cell_type": "code",
   "execution_count": 48,
   "metadata": {},
   "outputs": [
    {
     "data": {
      "text/plain": [
       "CategoryID\n",
       "1     10\n",
       "2      6\n",
       "3      7\n",
       "4     15\n",
       "5      5\n",
       "6      4\n",
       "7      1\n",
       "20     1\n",
       "dtype: int64"
      ]
     },
     "execution_count": 48,
     "metadata": {},
     "output_type": "execute_result"
    }
   ],
   "source": [
    "#take a look at the data by category in the Food (product type 2) group\n",
    "ivac_foods_grouped = ivac_foods.groupby('CategoryID')\n",
    "ivac_foods_grouped.size()"
   ]
  },
  {
   "cell_type": "code",
   "execution_count": 52,
   "metadata": {
    "collapsed": true
   },
   "outputs": [],
   "source": [
    "#poultry category has the most data, let's use that\n",
    "ivac_poultry = df_IvAC[df_IvAC['CategoryID'] == 6] \n",
    "\n",
    "#variance quantity of poultry only in the main dataset\n",
    "varQty_poultry = ivac_poultry.VarianceQty\n",
    "\n",
    "#overage\n",
    "varQty_poultry_pos = ivac_poultry[ivac_poultry.VarianceQty > 0].VarianceQty"
   ]
  },
  {
   "cell_type": "markdown",
   "metadata": {},
   "source": [
    "### Variance Quantity - Main dataset"
   ]
  },
  {
   "cell_type": "code",
   "execution_count": 53,
   "metadata": {},
   "outputs": [
    {
     "data": {
      "text/plain": [
       "<matplotlib.axes._subplots.AxesSubplot at 0x11b586250>"
      ]
     },
     "execution_count": 53,
     "metadata": {},
     "output_type": "execute_result"
    },
    {
     "data": {
      "image/png": "[encoded data removed]",
      "text/plain": [
       "<matplotlib.figure.Figure at 0x11e9be9d0>"
      ]
     },
     "metadata": {},
     "output_type": "display_data"
    }
   ],
   "source": [
    "#variance quantity of the main dataset\n",
    "varQty = ivac_foods.VarianceQty\n",
    "sns.boxplot(varQty)"
   ]
  },
  {
   "cell_type": "code",
   "execution_count": 54,
   "metadata": {},
   "outputs": [
    {
     "data": {
      "text/html": [
       "<div>\n",
       "<table border=\"1\" class=\"dataframe\">\n",
       "  <thead>\n",
       "    <tr style=\"text-align: right;\">\n",
       "      <th></th>\n",
       "      <th>ProductID</th>\n",
       "      <th>Name</th>\n",
       "      <th>VarianceQty</th>\n",
       "      <th>BeginQty</th>\n",
       "      <th>EndQty</th>\n",
       "      <th>ActualQty</th>\n",
       "      <th>IdealQty</th>\n",
       "      <th>CategoryID</th>\n",
       "      <th>Category</th>\n",
       "      <th>ProductType</th>\n",
       "    </tr>\n",
       "  </thead>\n",
       "  <tbody>\n",
       "    <tr>\n",
       "      <th>47</th>\n",
       "      <td>399</td>\n",
       "      <td>Fries, 5/16\" Russet</td>\n",
       "      <td>320904.181</td>\n",
       "      <td>3330063.360</td>\n",
       "      <td>3368597.760</td>\n",
       "      <td>2295302.40</td>\n",
       "      <td>1999503.439</td>\n",
       "      <td>4</td>\n",
       "      <td>Other Food</td>\n",
       "      <td>2</td>\n",
       "    </tr>\n",
       "    <tr>\n",
       "      <th>64</th>\n",
       "      <td>458</td>\n",
       "      <td>Chicken, Tenderloins</td>\n",
       "      <td>102301.850</td>\n",
       "      <td>1407299.568</td>\n",
       "      <td>1438783.168</td>\n",
       "      <td>713684.40</td>\n",
       "      <td>628085.210</td>\n",
       "      <td>6</td>\n",
       "      <td>Poultry</td>\n",
       "      <td>2</td>\n",
       "    </tr>\n",
       "    <tr>\n",
       "      <th>65</th>\n",
       "      <td>459</td>\n",
       "      <td>Chicken, Breasts</td>\n",
       "      <td>114368.310</td>\n",
       "      <td>2019097.168</td>\n",
       "      <td>2090247.568</td>\n",
       "      <td>681745.12</td>\n",
       "      <td>615584.810</td>\n",
       "      <td>6</td>\n",
       "      <td>Poultry</td>\n",
       "      <td>2</td>\n",
       "    </tr>\n",
       "  </tbody>\n",
       "</table>\n",
       "</div>"
      ],
      "text/plain": [
       "    ProductID                  Name  VarianceQty     BeginQty       EndQty  \\\n",
       "47        399   Fries, 5/16\" Russet   320904.181  3330063.360  3368597.760   \n",
       "64        458  Chicken, Tenderloins   102301.850  1407299.568  1438783.168   \n",
       "65        459      Chicken, Breasts   114368.310  2019097.168  2090247.568   \n",
       "\n",
       "     ActualQty     IdealQty  CategoryID    Category ProductType  \n",
       "47  2295302.40  1999503.439           4  Other Food           2  \n",
       "64   713684.40   628085.210           6     Poultry           2  \n",
       "65   681745.12   615584.810           6     Poultry           2  "
      ]
     },
     "execution_count": 54,
     "metadata": {},
     "output_type": "execute_result"
    }
   ],
   "source": [
    "#a few significant outliers. Let's see what they are.\n",
    "ivac_foods[ivac_foods.VarianceQty > 100000]\n",
    "#ok, they are legitimate but just very highly used items with high quantity. will log transform it."
   ]
  },
  {
   "cell_type": "markdown",
   "metadata": {},
   "source": [
    "### Variance Quantity - Poultry Only"
   ]
  },
  {
   "cell_type": "code",
   "execution_count": 55,
   "metadata": {},
   "outputs": [
    {
     "data": {
      "text/plain": [
       "<matplotlib.axes._subplots.AxesSubplot at 0x11ec53e50>"
      ]
     },
     "execution_count": 55,
     "metadata": {},
     "output_type": "execute_result"
    },
    {
     "data": {
      "image/png": "[encoded data removed]",
      "text/plain": [
       "<matplotlib.figure.Figure at 0x11ecdb0d0>"
      ]
     },
     "metadata": {},
     "output_type": "display_data"
    }
   ],
   "source": [
    "sns.boxplot(varQty_poultry)"
   ]
  },
  {
   "cell_type": "markdown",
   "metadata": {},
   "source": [
    "### Actual Overage i.e. positive variance quantity"
   ]
  },
  {
   "cell_type": "code",
   "execution_count": 56,
   "metadata": {},
   "outputs": [
    {
     "data": {
      "text/plain": [
       "<matplotlib.axes._subplots.AxesSubplot at 0x11b277490>"
      ]
     },
     "execution_count": 56,
     "metadata": {},
     "output_type": "execute_result"
    },
    {
     "data": {
      "image/png": "[encoded data removed]",
      "text/plain": [
       "<matplotlib.figure.Figure at 0x11ed7a7d0>"
      ]
     },
     "metadata": {},
     "output_type": "display_data"
    }
   ],
   "source": [
    "sns.boxplot(varQty_poultry_pos)"
   ]
  },
  {
   "cell_type": "code",
   "execution_count": 59,
   "metadata": {},
   "outputs": [
    {
     "data": {
      "text/plain": [
       "<matplotlib.axes._subplots.AxesSubplot at 0x11ef2dd10>"
      ]
     },
     "execution_count": 59,
     "metadata": {},
     "output_type": "execute_result"
    },
    {
     "data": {
      "image/png": "[encoded data removed]",
      "text/plain": [
       "<matplotlib.figure.Figure at 0x11ecf9490>"
      ]
     },
     "metadata": {},
     "output_type": "display_data"
    }
   ],
   "source": [
    "sns.distplot(varQty_poultry, color='blue', norm_hist=True)"
   ]
  },
  {
   "cell_type": "code",
   "execution_count": 15,
   "metadata": {
    "collapsed": true
   },
   "outputs": [],
   "source": []
  },
  {
   "cell_type": "code",
   "execution_count": null,
   "metadata": {},
   "outputs": [],
   "source": []
  },
  {
   "cell_type": "markdown",
   "metadata": {},
   "source": [
    "## Part 2. Rollup MenuItems Dataset"
   ]
  },
  {
   "cell_type": "code",
   "execution_count": null,
   "metadata": {
    "collapsed": true
   },
   "outputs": [],
   "source": []
  },
  {
   "cell_type": "code",
   "execution_count": null,
   "metadata": {
    "collapsed": true
   },
   "outputs": [],
   "source": []
  }
 ],
 "metadata": {
  "kernelspec": {
   "display_name": "Python 2",
   "language": "python",
   "name": "python2"
  },
  "language_info": {
   "codemirror_mode": {
    "name": "ipython",
    "version": 2
   },
   "file_extension": ".py",
   "mimetype": "text/x-python",
   "name": "python",
   "nbconvert_exporter": "python",
   "pygments_lexer": "ipython2",
   "version": "2.7.13"
  }
 },
 "nbformat": 4,
 "nbformat_minor": 1
}
