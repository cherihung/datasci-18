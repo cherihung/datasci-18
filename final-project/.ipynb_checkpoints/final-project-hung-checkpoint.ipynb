{
 "cells": [
  {
   "cell_type": "markdown",
   "metadata": {},
   "source": [
    "# Final Project Part 3 - Cheri Hung\n"
   ]
  },
  {
   "cell_type": "code",
   "execution_count": 1,
   "metadata": {},
   "outputs": [
    {
     "name": "stdout",
     "output_type": "stream",
     "text": [
      "<sqlite3.Connection object at 0x119e79940>\n"
     ]
    }
   ],
   "source": [
    "%matplotlib inline\n",
    "\n",
    "import pandas as pd\n",
    "import numpy as np\n",
    "import matplotlib.pyplot as plt\n",
    "import statsmodels.api as sm\n",
    "import pylab as pl\n",
    "import numpy as np\n",
    "import seaborn as sns\n",
    "from pandas.io import sql\n",
    "import sqlite3\n",
    "\n",
    "plt.style.use('ggplot')\n",
    "\n",
    "wd = 'assets/'\n",
    "db_conn = sqlite3.connect(wd+'dev_hung.db')\n",
    "print db_conn"
   ]
  },
  {
   "cell_type": "markdown",
   "metadata": {},
   "source": [
    "## I. Exploratory Analysis"
   ]
  },
  {
   "cell_type": "markdown",
   "metadata": {},
   "source": [
    "### Dataset 1: Ideal Cost vs Actual Cost, Winter 2016\n",
    "\n",
    "#### Date range: 2016-12-01 to 2017-02-28\n",
    "To account for seasonal trends as a likely covariate affecting the outcome, the initial analysis will be based on the 2016 Winter season. This seasonal dataset also comprises of a majority of the data I have access to."
   ]
  },
  {
   "cell_type": "code",
   "execution_count": 59,
   "metadata": {},
   "outputs": [
    {
     "data": {
      "text/html": [
       "<div>\n",
       "<table border=\"1\" class=\"dataframe\">\n",
       "  <thead>\n",
       "    <tr style=\"text-align: right;\">\n",
       "      <th></th>\n",
       "      <th>InventoryID</th>\n",
       "      <th>ProductID</th>\n",
       "      <th>Date</th>\n",
       "      <th>ProductDescription</th>\n",
       "      <th>VarianceQty</th>\n",
       "      <th>BeginQty</th>\n",
       "      <th>EndQty</th>\n",
       "      <th>ActualQty</th>\n",
       "      <th>IdealQty</th>\n",
       "      <th>CategoryID</th>\n",
       "      <th>Category</th>\n",
       "      <th>ProductType</th>\n",
       "      <th>StoreID</th>\n",
       "    </tr>\n",
       "  </thead>\n",
       "  <tbody>\n",
       "    <tr>\n",
       "      <th>0</th>\n",
       "      <td>453</td>\n",
       "      <td>26</td>\n",
       "      <td>12/8/16 0:00</td>\n",
       "      <td>Tito's Vodka</td>\n",
       "      <td>-67.628</td>\n",
       "      <td>135.256</td>\n",
       "      <td>202.884</td>\n",
       "      <td>-67.628</td>\n",
       "      <td>0.00</td>\n",
       "      <td>11</td>\n",
       "      <td>Liquor</td>\n",
       "      <td>1</td>\n",
       "      <td>15</td>\n",
       "    </tr>\n",
       "    <tr>\n",
       "      <th>2</th>\n",
       "      <td>466</td>\n",
       "      <td>26</td>\n",
       "      <td>12/9/16 0:00</td>\n",
       "      <td>Tito's Vodka</td>\n",
       "      <td>67.628</td>\n",
       "      <td>202.884</td>\n",
       "      <td>135.256</td>\n",
       "      <td>67.628</td>\n",
       "      <td>0.00</td>\n",
       "      <td>11</td>\n",
       "      <td>Liquor</td>\n",
       "      <td>1</td>\n",
       "      <td>15</td>\n",
       "    </tr>\n",
       "    <tr>\n",
       "      <th>3</th>\n",
       "      <td>498</td>\n",
       "      <td>26</td>\n",
       "      <td>12/14/16 0:00</td>\n",
       "      <td>Tito's Vodka</td>\n",
       "      <td>-65.306</td>\n",
       "      <td>135.256</td>\n",
       "      <td>197.812</td>\n",
       "      <td>-62.556</td>\n",
       "      <td>2.75</td>\n",
       "      <td>11</td>\n",
       "      <td>Liquor</td>\n",
       "      <td>1</td>\n",
       "      <td>15</td>\n",
       "    </tr>\n",
       "    <tr>\n",
       "      <th>4</th>\n",
       "      <td>516</td>\n",
       "      <td>26</td>\n",
       "      <td>12/15/16 0:00</td>\n",
       "      <td>Tito's Vodka</td>\n",
       "      <td>-1.691</td>\n",
       "      <td>197.812</td>\n",
       "      <td>199.503</td>\n",
       "      <td>-1.691</td>\n",
       "      <td>0.00</td>\n",
       "      <td>11</td>\n",
       "      <td>Liquor</td>\n",
       "      <td>1</td>\n",
       "      <td>15</td>\n",
       "    </tr>\n",
       "    <tr>\n",
       "      <th>5</th>\n",
       "      <td>517</td>\n",
       "      <td>26</td>\n",
       "      <td>12/16/16 0:00</td>\n",
       "      <td>Tito's Vodka</td>\n",
       "      <td>0.441</td>\n",
       "      <td>199.503</td>\n",
       "      <td>197.812</td>\n",
       "      <td>1.691</td>\n",
       "      <td>1.25</td>\n",
       "      <td>11</td>\n",
       "      <td>Liquor</td>\n",
       "      <td>1</td>\n",
       "      <td>15</td>\n",
       "    </tr>\n",
       "  </tbody>\n",
       "</table>\n",
       "</div>"
      ],
      "text/plain": [
       "   InventoryID  ProductID           Date ProductDescription  VarianceQty  \\\n",
       "0          453         26   12/8/16 0:00       Tito's Vodka      -67.628   \n",
       "2          466         26   12/9/16 0:00       Tito's Vodka       67.628   \n",
       "3          498         26  12/14/16 0:00       Tito's Vodka      -65.306   \n",
       "4          516         26  12/15/16 0:00       Tito's Vodka       -1.691   \n",
       "5          517         26  12/16/16 0:00       Tito's Vodka        0.441   \n",
       "\n",
       "  BeginQty   EndQty ActualQty  IdealQty  CategoryID Category ProductType  \\\n",
       "0  135.256  202.884   -67.628      0.00          11   Liquor           1   \n",
       "2  202.884  135.256    67.628      0.00          11   Liquor           1   \n",
       "3  135.256  197.812   -62.556      2.75          11   Liquor           1   \n",
       "4  197.812  199.503    -1.691      0.00          11   Liquor           1   \n",
       "5  199.503  197.812     1.691      1.25          11   Liquor           1   \n",
       "\n",
       "   StoreID  \n",
       "0       15  \n",
       "2       15  \n",
       "3       15  \n",
       "4       15  \n",
       "5       15  "
      ]
     },
     "execution_count": 59,
     "metadata": {},
     "output_type": "execute_result"
    }
   ],
   "source": [
    "#create dataframe of the main dataset of a SQL View \n",
    "df_IvAC_winter_raw = sql.read_sql('SELECT * FROM vw_IVActualC_Dates_Categories', con=db_conn)\n",
    "df_IvAC_winter = df_IvAC_winter_raw.dropna()\n",
    "df_IvAC_winter.head()"
   ]
  },
  {
   "cell_type": "markdown",
   "metadata": {},
   "source": [
    "| Variable | Description | Type of Variable |\n",
    "|----------|:-------------:|------:|\n",
    "| InventoryID |Identifying inventory ID | discrete numerical ID |\n",
    "| ProductID |Identifying ingredient ID | discrete numerical ID |\n",
    "| Date | Inventory order date | discrete numerical ID |\n",
    "| ProductDescription | Ingredient name | text |\n",
    "| VarianceQty | Difference between ActualQty and IdealQty | continous numerical |\n",
    "| BeginQty | Ingredient qty at the beginning of inventory period | continous numerical |\n",
    "| EndQty | Ingredient qty at the end of inventory period | continous numerical |\n",
    "| ActualQty | Difference between BeginQty and EndQty | continous numerical |\n",
    "| IdealQty | What's the expected difference between BeginQty and EndQty | continous numerical |\n",
    "| CategoryID | category id | discrete numerical ID |\n",
    "| Category | category the ingredient belongs to | text |\n",
    "| ProductType | a general product type. 1=liquor, 2=food, 3=other, 4=merchandise | discrete numerical ID |\n",
    "| StoreID | store that data is associated with | discrete numerical ID |\n"
   ]
  },
  {
   "cell_type": "code",
   "execution_count": 60,
   "metadata": {},
   "outputs": [
    {
     "data": {
      "text/html": [
       "<div>\n",
       "<table border=\"1\" class=\"dataframe\">\n",
       "  <thead>\n",
       "    <tr style=\"text-align: right;\">\n",
       "      <th></th>\n",
       "      <th>InventoryID</th>\n",
       "      <th>ProductID</th>\n",
       "      <th>VarianceQty</th>\n",
       "      <th>EndQty</th>\n",
       "      <th>IdealQty</th>\n",
       "      <th>CategoryID</th>\n",
       "      <th>StoreID</th>\n",
       "    </tr>\n",
       "  </thead>\n",
       "  <tbody>\n",
       "    <tr>\n",
       "      <th>count</th>\n",
       "      <td>1970.000000</td>\n",
       "      <td>1970.000000</td>\n",
       "      <td>1970.000000</td>\n",
       "      <td>1970.000000</td>\n",
       "      <td>1970.000000</td>\n",
       "      <td>1970.000000</td>\n",
       "      <td>1970.000000</td>\n",
       "    </tr>\n",
       "    <tr>\n",
       "      <th>mean</th>\n",
       "      <td>599.955838</td>\n",
       "      <td>427.834010</td>\n",
       "      <td>138.758491</td>\n",
       "      <td>1785.879225</td>\n",
       "      <td>509.662076</td>\n",
       "      <td>5.836041</td>\n",
       "      <td>12.003046</td>\n",
       "    </tr>\n",
       "    <tr>\n",
       "      <th>std</th>\n",
       "      <td>173.627824</td>\n",
       "      <td>172.223364</td>\n",
       "      <td>1645.557058</td>\n",
       "      <td>2974.970029</td>\n",
       "      <td>1679.508370</td>\n",
       "      <td>3.133725</td>\n",
       "      <td>4.400931</td>\n",
       "    </tr>\n",
       "    <tr>\n",
       "      <th>min</th>\n",
       "      <td>388.000000</td>\n",
       "      <td>26.000000</td>\n",
       "      <td>-22267.320000</td>\n",
       "      <td>0.000000</td>\n",
       "      <td>0.000000</td>\n",
       "      <td>1.000000</td>\n",
       "      <td>4.000000</td>\n",
       "    </tr>\n",
       "    <tr>\n",
       "      <th>25%</th>\n",
       "      <td>473.000000</td>\n",
       "      <td>339.000000</td>\n",
       "      <td>-26.324250</td>\n",
       "      <td>134.250000</td>\n",
       "      <td>3.500000</td>\n",
       "      <td>4.000000</td>\n",
       "      <td>7.000000</td>\n",
       "    </tr>\n",
       "    <tr>\n",
       "      <th>50%</th>\n",
       "      <td>550.000000</td>\n",
       "      <td>458.000000</td>\n",
       "      <td>5.679500</td>\n",
       "      <td>792.000000</td>\n",
       "      <td>87.500000</td>\n",
       "      <td>6.000000</td>\n",
       "      <td>13.000000</td>\n",
       "    </tr>\n",
       "    <tr>\n",
       "      <th>75%</th>\n",
       "      <td>634.000000</td>\n",
       "      <td>495.000000</td>\n",
       "      <td>176.036000</td>\n",
       "      <td>2206.960000</td>\n",
       "      <td>428.000000</td>\n",
       "      <td>9.000000</td>\n",
       "      <td>15.000000</td>\n",
       "    </tr>\n",
       "    <tr>\n",
       "      <th>max</th>\n",
       "      <td>948.000000</td>\n",
       "      <td>953.000000</td>\n",
       "      <td>22189.030000</td>\n",
       "      <td>30240.000000</td>\n",
       "      <td>43271.590000</td>\n",
       "      <td>11.000000</td>\n",
       "      <td>19.000000</td>\n",
       "    </tr>\n",
       "  </tbody>\n",
       "</table>\n",
       "</div>"
      ],
      "text/plain": [
       "       InventoryID    ProductID   VarianceQty        EndQty      IdealQty  \\\n",
       "count  1970.000000  1970.000000   1970.000000   1970.000000   1970.000000   \n",
       "mean    599.955838   427.834010    138.758491   1785.879225    509.662076   \n",
       "std     173.627824   172.223364   1645.557058   2974.970029   1679.508370   \n",
       "min     388.000000    26.000000 -22267.320000      0.000000      0.000000   \n",
       "25%     473.000000   339.000000    -26.324250    134.250000      3.500000   \n",
       "50%     550.000000   458.000000      5.679500    792.000000     87.500000   \n",
       "75%     634.000000   495.000000    176.036000   2206.960000    428.000000   \n",
       "max     948.000000   953.000000  22189.030000  30240.000000  43271.590000   \n",
       "\n",
       "        CategoryID      StoreID  \n",
       "count  1970.000000  1970.000000  \n",
       "mean      5.836041    12.003046  \n",
       "std       3.133725     4.400931  \n",
       "min       1.000000     4.000000  \n",
       "25%       4.000000     7.000000  \n",
       "50%       6.000000    13.000000  \n",
       "75%       9.000000    15.000000  \n",
       "max      11.000000    19.000000  "
      ]
     },
     "execution_count": 60,
     "metadata": {},
     "output_type": "execute_result"
    }
   ],
   "source": [
    "df_IvAC_winter.describe()"
   ]
  },
  {
   "cell_type": "code",
   "execution_count": 64,
   "metadata": {},
   "outputs": [
    {
     "data": {
      "text/html": [
       "<div>\n",
       "<table border=\"1\" class=\"dataframe\">\n",
       "  <thead>\n",
       "    <tr style=\"text-align: right;\">\n",
       "      <th></th>\n",
       "      <th>InventoryID</th>\n",
       "      <th>ProductID</th>\n",
       "      <th>Date</th>\n",
       "      <th>ProductDescription</th>\n",
       "      <th>VarianceQty</th>\n",
       "      <th>BeginQty</th>\n",
       "      <th>EndQty</th>\n",
       "      <th>ActualQty</th>\n",
       "      <th>IdealQty</th>\n",
       "      <th>CategoryID</th>\n",
       "      <th>Category</th>\n",
       "      <th>ProductType</th>\n",
       "      <th>StoreID</th>\n",
       "    </tr>\n",
       "  </thead>\n",
       "  <tbody>\n",
       "    <tr>\n",
       "      <th>7</th>\n",
       "      <td>943</td>\n",
       "      <td>68</td>\n",
       "      <td>2/24/17 0:00</td>\n",
       "      <td>Spice, Flour Seasoning</td>\n",
       "      <td>0.240</td>\n",
       "      <td>22</td>\n",
       "      <td>19.000</td>\n",
       "      <td>3</td>\n",
       "      <td>2.76</td>\n",
       "      <td>4</td>\n",
       "      <td>Other Food</td>\n",
       "      <td>2</td>\n",
       "      <td>15</td>\n",
       "    </tr>\n",
       "    <tr>\n",
       "      <th>8</th>\n",
       "      <td>406</td>\n",
       "      <td>80</td>\n",
       "      <td>12/2/16 0:00</td>\n",
       "      <td>Sour Cream</td>\n",
       "      <td>34.400</td>\n",
       "      <td>381.6</td>\n",
       "      <td>115.200</td>\n",
       "      <td>266.4</td>\n",
       "      <td>232.00</td>\n",
       "      <td>3</td>\n",
       "      <td>Dairy</td>\n",
       "      <td>2</td>\n",
       "      <td>7</td>\n",
       "    </tr>\n",
       "    <tr>\n",
       "      <th>9</th>\n",
       "      <td>388</td>\n",
       "      <td>85</td>\n",
       "      <td>12/1/16 0:00</td>\n",
       "      <td>Shrimp 21/25</td>\n",
       "      <td>-583.376</td>\n",
       "      <td>2783.92</td>\n",
       "      <td>3367.296</td>\n",
       "      <td>-583.376</td>\n",
       "      <td>0.00</td>\n",
       "      <td>5</td>\n",
       "      <td>Seafood</td>\n",
       "      <td>2</td>\n",
       "      <td>16</td>\n",
       "    </tr>\n",
       "    <tr>\n",
       "      <th>10</th>\n",
       "      <td>392</td>\n",
       "      <td>85</td>\n",
       "      <td>12/1/16 0:00</td>\n",
       "      <td>Shrimp 21/25</td>\n",
       "      <td>-194.930</td>\n",
       "      <td>1203.5</td>\n",
       "      <td>1129.424</td>\n",
       "      <td>74.08</td>\n",
       "      <td>269.01</td>\n",
       "      <td>5</td>\n",
       "      <td>Seafood</td>\n",
       "      <td>2</td>\n",
       "      <td>13</td>\n",
       "    </tr>\n",
       "    <tr>\n",
       "      <th>11</th>\n",
       "      <td>394</td>\n",
       "      <td>85</td>\n",
       "      <td>12/2/16 0:00</td>\n",
       "      <td>Shrimp 21/25</td>\n",
       "      <td>700.560</td>\n",
       "      <td>1385.09</td>\n",
       "      <td>684.528</td>\n",
       "      <td>700.56</td>\n",
       "      <td>0.00</td>\n",
       "      <td>5</td>\n",
       "      <td>Seafood</td>\n",
       "      <td>2</td>\n",
       "      <td>9</td>\n",
       "    </tr>\n",
       "  </tbody>\n",
       "</table>\n",
       "</div>"
      ],
      "text/plain": [
       "    InventoryID  ProductID          Date      ProductDescription  VarianceQty  \\\n",
       "7           943         68  2/24/17 0:00  Spice, Flour Seasoning        0.240   \n",
       "8           406         80  12/2/16 0:00              Sour Cream       34.400   \n",
       "9           388         85  12/1/16 0:00            Shrimp 21/25     -583.376   \n",
       "10          392         85  12/1/16 0:00            Shrimp 21/25     -194.930   \n",
       "11          394         85  12/2/16 0:00            Shrimp 21/25      700.560   \n",
       "\n",
       "   BeginQty    EndQty ActualQty  IdealQty  CategoryID    Category ProductType  \\\n",
       "7        22    19.000         3      2.76           4  Other Food           2   \n",
       "8     381.6   115.200     266.4    232.00           3       Dairy           2   \n",
       "9   2783.92  3367.296  -583.376      0.00           5     Seafood           2   \n",
       "10   1203.5  1129.424     74.08    269.01           5     Seafood           2   \n",
       "11  1385.09   684.528    700.56      0.00           5     Seafood           2   \n",
       "\n",
       "    StoreID  \n",
       "7        15  \n",
       "8         7  \n",
       "9        16  \n",
       "10       13  \n",
       "11        9  "
      ]
     },
     "execution_count": 64,
     "metadata": {},
     "output_type": "execute_result"
    }
   ],
   "source": [
    "df_IvAC_winter_food = df_IvAC_winter[(df_IvAC_winter['ProductType'] == '2')]\n",
    "df_IvAC_winter_food.head()"
   ]
  },
  {
   "cell_type": "code",
   "execution_count": 66,
   "metadata": {},
   "outputs": [
    {
     "data": {
      "text/plain": [
       "<matplotlib.axes._subplots.AxesSubplot at 0x11ef81f90>"
      ]
     },
     "execution_count": 66,
     "metadata": {},
     "output_type": "execute_result"
    },
    {
     "data": {
      "image/png": "[encoded data removed]",
      "text/plain": [
       "<matplotlib.figure.Figure at 0x11ef81cd0>"
      ]
     },
     "metadata": {},
     "output_type": "display_data"
    }
   ],
   "source": [
    "varQty = df_IvAC_winter.VarianceQty\n",
    "varQty_food = df_IvAC_winter_food.VarianceQty\n",
    "#varQty_pos = df_IvAC[varQty > 0].VarianceQty\n",
    "#varQty_neg = df_IvAC[varQty < 0].VarianceQty\n",
    "sns.boxplot(varQty)"
   ]
  },
  {
   "cell_type": "code",
   "execution_count": 68,
   "metadata": {},
   "outputs": [
    {
     "data": {
      "text/plain": [
       "<matplotlib.axes._subplots.AxesSubplot at 0x11f076650>"
      ]
     },
     "execution_count": 68,
     "metadata": {},
     "output_type": "execute_result"
    },
    {
     "data": {
      "image/png": "[encoded data removed]",
      "text/plain": [
       "<matplotlib.figure.Figure at 0x11f082ed0>"
      ]
     },
     "metadata": {},
     "output_type": "display_data"
    }
   ],
   "source": [
    "sns.boxplot(varQty_food)"
   ]
  },
  {
   "cell_type": "code",
   "execution_count": 53,
   "metadata": {},
   "outputs": [
    {
     "data": {
      "text/plain": [
       "<matplotlib.axes._subplots.AxesSubplot at 0x11cd0d990>"
      ]
     },
     "execution_count": 53,
     "metadata": {},
     "output_type": "execute_result"
    },
    {
     "data": {
      "image/png": "[encoded data removed]",
      "text/plain": [
       "<matplotlib.figure.Figure at 0x11cd8b250>"
      ]
     },
     "metadata": {},
     "output_type": "display_data"
    }
   ],
   "source": [
    "sns.boxplot(varQty_neg)"
   ]
  },
  {
   "cell_type": "code",
   "execution_count": 56,
   "metadata": {},
   "outputs": [
    {
     "data": {
      "text/plain": [
       "<matplotlib.axes._subplots.AxesSubplot at 0x119969910>"
      ]
     },
     "execution_count": 56,
     "metadata": {},
     "output_type": "execute_result"
    },
    {
     "data": {
      "image/png": "[encoded data removed]",
      "text/plain": [
       "<matplotlib.figure.Figure at 0x11cdc4090>"
      ]
     },
     "metadata": {},
     "output_type": "display_data"
    }
   ],
   "source": [
    "sns.distplot(varQty_pos, color='green', norm_hist=True)"
   ]
  },
  {
   "cell_type": "markdown",
   "metadata": {},
   "source": [
    "How many samples have perfect variance (VarianceQty = 0)?"
   ]
  },
  {
   "cell_type": "code",
   "execution_count": 55,
   "metadata": {},
   "outputs": [
    {
     "data": {
      "text/plain": [
       "InventoryID     345\n",
       "ProductID       345\n",
       "BeginQty        345\n",
       "RecQty          345\n",
       "EndQty          345\n",
       "ActualQty       345\n",
       "IdealQty        345\n",
       "VarianceQty     345\n",
       "PricePerQty     345\n",
       "RecMeasureID    345\n",
       "dtype: int64"
      ]
     },
     "execution_count": 55,
     "metadata": {},
     "output_type": "execute_result"
    }
   ],
   "source": [
    "df_IvAC_zeroes = df_IvAC[varQty == 0]\n",
    "df_IvAC_zeroes.count()"
   ]
  },
  {
   "cell_type": "markdown",
   "metadata": {},
   "source": [
    "## Part 2. Rollup MenuItems Dataset"
   ]
  },
  {
   "cell_type": "code",
   "execution_count": null,
   "metadata": {
    "collapsed": true
   },
   "outputs": [],
   "source": []
  }
 ],
 "metadata": {
  "kernelspec": {
   "display_name": "Python 2",
   "language": "python",
   "name": "python2"
  },
  "language_info": {
   "codemirror_mode": {
    "name": "ipython",
    "version": 2
   },
   "file_extension": ".py",
   "mimetype": "text/x-python",
   "name": "python",
   "nbconvert_exporter": "python",
   "pygments_lexer": "ipython2",
   "version": "2.7.13"
  }
 },
 "nbformat": 4,
 "nbformat_minor": 1
}
