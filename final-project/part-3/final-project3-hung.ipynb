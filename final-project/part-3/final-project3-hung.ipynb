{
 "cells": [
  {
   "cell_type": "markdown",
   "metadata": {},
   "source": [
    "# Final Project Part 3 - Cheri Hung\n"
   ]
  },
  {
   "cell_type": "code",
   "execution_count": 16,
   "metadata": {
    "collapsed": true
   },
   "outputs": [],
   "source": [
    "%matplotlib inline\n",
    "\n",
    "import pandas as pd\n",
    "import numpy as np\n",
    "import matplotlib.pyplot as plt\n",
    "import statsmodels.api as sm\n",
    "import pylab as pl\n",
    "import numpy as np\n",
    "import seaborn as sns\n",
    "\n",
    "plt.style.use('ggplot')\n"
   ]
  },
  {
   "cell_type": "markdown",
   "metadata": {},
   "source": [
    "## Part 1. Initial Exploration of Key Datasets"
   ]
  },
  {
   "cell_type": "markdown",
   "metadata": {},
   "source": [
    "### Dataset 1: tb_IdealVActualC_2016_2017_winter.csv\n",
    "\n",
    "#### Date range: 2016-12-01 to 2017-02-28\n",
    "This is the main data table with *VarianceQty*. It is to be combined with dataset2."
   ]
  },
  {
   "cell_type": "markdown",
   "metadata": {},
   "source": [
    "| Variable | Description | Type of Variable |\n",
    "|----------|:-------------:|------:|\n",
    "| ProductID |Identifying ingredient ID | discrete numerical ID |\n",
    "| BeginQty | Ingredient qty at the beginning of inventory period | continous numerical |\n",
    "| EndQty | Ingredient qty at the end of inventory period | continous numerical |\n",
    "| ActualQty | Difference between BeginQty and EndQty | continous numerical |\n",
    "| IdealQty | What's the expected difference between BeginQty and EndQty | continous numerical |\n",
    "| VarianceQty | Difference between ActualQty and IdealQty | continous numerical |\n"
   ]
  },
  {
   "cell_type": "code",
   "execution_count": 17,
   "metadata": {},
   "outputs": [
    {
     "data": {
      "text/html": [
       "<div>\n",
       "<table border=\"1\" class=\"dataframe\">\n",
       "  <thead>\n",
       "    <tr style=\"text-align: right;\">\n",
       "      <th></th>\n",
       "      <th>InventoryID</th>\n",
       "      <th>ProductID</th>\n",
       "      <th>BeginQty</th>\n",
       "      <th>RecQty</th>\n",
       "      <th>EndQty</th>\n",
       "      <th>ActualQty</th>\n",
       "      <th>IdealQty</th>\n",
       "      <th>VarianceQty</th>\n",
       "      <th>PricePerQty</th>\n",
       "      <th>RecMeasureID</th>\n",
       "    </tr>\n",
       "  </thead>\n",
       "  <tbody>\n",
       "    <tr>\n",
       "      <th>3356</th>\n",
       "      <td>948</td>\n",
       "      <td>459</td>\n",
       "      <td>4112.000</td>\n",
       "      <td>0.0</td>\n",
       "      <td>2384.000</td>\n",
       "      <td>1728.000</td>\n",
       "      <td>1060.00</td>\n",
       "      <td>668.000</td>\n",
       "      <td>0.13</td>\n",
       "      <td>8</td>\n",
       "    </tr>\n",
       "    <tr>\n",
       "      <th>3357</th>\n",
       "      <td>948</td>\n",
       "      <td>467</td>\n",
       "      <td>1467.168</td>\n",
       "      <td>0.0</td>\n",
       "      <td>779.472</td>\n",
       "      <td>687.696</td>\n",
       "      <td>718.09</td>\n",
       "      <td>-30.394</td>\n",
       "      <td>0.13</td>\n",
       "      <td>8</td>\n",
       "    </tr>\n",
       "    <tr>\n",
       "      <th>3358</th>\n",
       "      <td>948</td>\n",
       "      <td>481</td>\n",
       "      <td>4416.000</td>\n",
       "      <td>0.0</td>\n",
       "      <td>1856.000</td>\n",
       "      <td>2560.000</td>\n",
       "      <td>2007.20</td>\n",
       "      <td>552.800</td>\n",
       "      <td>0.03</td>\n",
       "      <td>7</td>\n",
       "    </tr>\n",
       "    <tr>\n",
       "      <th>3359</th>\n",
       "      <td>948</td>\n",
       "      <td>496</td>\n",
       "      <td>136.000</td>\n",
       "      <td>0.0</td>\n",
       "      <td>78.000</td>\n",
       "      <td>58.000</td>\n",
       "      <td>58.00</td>\n",
       "      <td>0.000</td>\n",
       "      <td>1.03</td>\n",
       "      <td>4</td>\n",
       "    </tr>\n",
       "    <tr>\n",
       "      <th>3360</th>\n",
       "      <td>948</td>\n",
       "      <td>913</td>\n",
       "      <td>81.152</td>\n",
       "      <td>0.0</td>\n",
       "      <td>43.112</td>\n",
       "      <td>38.040</td>\n",
       "      <td>0.00</td>\n",
       "      <td>38.040</td>\n",
       "      <td>0.11</td>\n",
       "      <td>7</td>\n",
       "    </tr>\n",
       "  </tbody>\n",
       "</table>\n",
       "</div>"
      ],
      "text/plain": [
       "      InventoryID  ProductID  BeginQty  RecQty    EndQty  ActualQty  IdealQty  \\\n",
       "3356          948        459  4112.000     0.0  2384.000   1728.000   1060.00   \n",
       "3357          948        467  1467.168     0.0   779.472    687.696    718.09   \n",
       "3358          948        481  4416.000     0.0  1856.000   2560.000   2007.20   \n",
       "3359          948        496   136.000     0.0    78.000     58.000     58.00   \n",
       "3360          948        913    81.152     0.0    43.112     38.040      0.00   \n",
       "\n",
       "      VarianceQty  PricePerQty  RecMeasureID  \n",
       "3356      668.000         0.13             8  \n",
       "3357      -30.394         0.13             8  \n",
       "3358      552.800         0.03             7  \n",
       "3359        0.000         1.03             4  \n",
       "3360       38.040         0.11             7  "
      ]
     },
     "execution_count": 17,
     "metadata": {},
     "output_type": "execute_result"
    }
   ],
   "source": [
    "df_IvAC_raw = pd.read_csv(\"../assets/tb_IdealVActualC_2016_2017_winter.csv\")\n",
    "df_IvAC = df_IvAC_raw.dropna() \n",
    "df_IvAC.tail()"
   ]
  },
  {
   "cell_type": "code",
   "execution_count": 21,
   "metadata": {},
   "outputs": [
    {
     "data": {
      "text/html": [
       "<div>\n",
       "<table border=\"1\" class=\"dataframe\">\n",
       "  <thead>\n",
       "    <tr style=\"text-align: right;\">\n",
       "      <th></th>\n",
       "      <th>InventoryID</th>\n",
       "      <th>ProductID</th>\n",
       "      <th>BeginQty</th>\n",
       "      <th>RecQty</th>\n",
       "      <th>EndQty</th>\n",
       "      <th>ActualQty</th>\n",
       "      <th>IdealQty</th>\n",
       "      <th>VarianceQty</th>\n",
       "      <th>PricePerQty</th>\n",
       "      <th>RecMeasureID</th>\n",
       "    </tr>\n",
       "  </thead>\n",
       "  <tbody>\n",
       "    <tr>\n",
       "      <th>count</th>\n",
       "      <td>3167.000000</td>\n",
       "      <td>3167.000000</td>\n",
       "      <td>3167.000000</td>\n",
       "      <td>3167.000000</td>\n",
       "      <td>3167.000000</td>\n",
       "      <td>3167.000000</td>\n",
       "      <td>3167.000000</td>\n",
       "      <td>3167.000000</td>\n",
       "      <td>3167.000000</td>\n",
       "      <td>3167.000000</td>\n",
       "    </tr>\n",
       "    <tr>\n",
       "      <th>mean</th>\n",
       "      <td>663.499842</td>\n",
       "      <td>424.165456</td>\n",
       "      <td>1743.284395</td>\n",
       "      <td>691.732011</td>\n",
       "      <td>1720.730012</td>\n",
       "      <td>714.286395</td>\n",
       "      <td>573.976940</td>\n",
       "      <td>140.309454</td>\n",
       "      <td>0.498712</td>\n",
       "      <td>6.799179</td>\n",
       "    </tr>\n",
       "    <tr>\n",
       "      <th>std</th>\n",
       "      <td>166.411294</td>\n",
       "      <td>161.470676</td>\n",
       "      <td>3018.103860</td>\n",
       "      <td>3177.854524</td>\n",
       "      <td>2948.903071</td>\n",
       "      <td>2965.367825</td>\n",
       "      <td>2273.630023</td>\n",
       "      <td>1687.956535</td>\n",
       "      <td>0.739815</td>\n",
       "      <td>1.563388</td>\n",
       "    </tr>\n",
       "    <tr>\n",
       "      <th>min</th>\n",
       "      <td>388.000000</td>\n",
       "      <td>26.000000</td>\n",
       "      <td>0.000000</td>\n",
       "      <td>-2880.000000</td>\n",
       "      <td>0.000000</td>\n",
       "      <td>-21977.600000</td>\n",
       "      <td>0.000000</td>\n",
       "      <td>-22267.320000</td>\n",
       "      <td>0.010000</td>\n",
       "      <td>4.000000</td>\n",
       "    </tr>\n",
       "    <tr>\n",
       "      <th>25%</th>\n",
       "      <td>517.000000</td>\n",
       "      <td>339.000000</td>\n",
       "      <td>132.765000</td>\n",
       "      <td>0.000000</td>\n",
       "      <td>135.128000</td>\n",
       "      <td>3.381000</td>\n",
       "      <td>10.000000</td>\n",
       "      <td>-29.722000</td>\n",
       "      <td>0.080000</td>\n",
       "      <td>7.000000</td>\n",
       "    </tr>\n",
       "    <tr>\n",
       "      <th>50%</th>\n",
       "      <td>653.000000</td>\n",
       "      <td>458.000000</td>\n",
       "      <td>793.600000</td>\n",
       "      <td>0.000000</td>\n",
       "      <td>793.600000</td>\n",
       "      <td>133.616000</td>\n",
       "      <td>126.000000</td>\n",
       "      <td>7.130000</td>\n",
       "      <td>0.140000</td>\n",
       "      <td>7.000000</td>\n",
       "    </tr>\n",
       "    <tr>\n",
       "      <th>75%</th>\n",
       "      <td>809.000000</td>\n",
       "      <td>495.000000</td>\n",
       "      <td>2140.608000</td>\n",
       "      <td>74.328000</td>\n",
       "      <td>2112.000000</td>\n",
       "      <td>640.000000</td>\n",
       "      <td>453.075000</td>\n",
       "      <td>192.000000</td>\n",
       "      <td>0.610000</td>\n",
       "      <td>8.000000</td>\n",
       "    </tr>\n",
       "    <tr>\n",
       "      <th>max</th>\n",
       "      <td>948.000000</td>\n",
       "      <td>953.000000</td>\n",
       "      <td>40320.000000</td>\n",
       "      <td>93888.000000</td>\n",
       "      <td>40320.000000</td>\n",
       "      <td>80352.000000</td>\n",
       "      <td>77259.710000</td>\n",
       "      <td>26864.530000</td>\n",
       "      <td>8.340000</td>\n",
       "      <td>9.000000</td>\n",
       "    </tr>\n",
       "  </tbody>\n",
       "</table>\n",
       "</div>"
      ],
      "text/plain": [
       "       InventoryID    ProductID      BeginQty        RecQty        EndQty  \\\n",
       "count  3167.000000  3167.000000   3167.000000   3167.000000   3167.000000   \n",
       "mean    663.499842   424.165456   1743.284395    691.732011   1720.730012   \n",
       "std     166.411294   161.470676   3018.103860   3177.854524   2948.903071   \n",
       "min     388.000000    26.000000      0.000000  -2880.000000      0.000000   \n",
       "25%     517.000000   339.000000    132.765000      0.000000    135.128000   \n",
       "50%     653.000000   458.000000    793.600000      0.000000    793.600000   \n",
       "75%     809.000000   495.000000   2140.608000     74.328000   2112.000000   \n",
       "max     948.000000   953.000000  40320.000000  93888.000000  40320.000000   \n",
       "\n",
       "          ActualQty      IdealQty   VarianceQty  PricePerQty  RecMeasureID  \n",
       "count   3167.000000   3167.000000   3167.000000  3167.000000   3167.000000  \n",
       "mean     714.286395    573.976940    140.309454     0.498712      6.799179  \n",
       "std     2965.367825   2273.630023   1687.956535     0.739815      1.563388  \n",
       "min   -21977.600000      0.000000 -22267.320000     0.010000      4.000000  \n",
       "25%        3.381000     10.000000    -29.722000     0.080000      7.000000  \n",
       "50%      133.616000    126.000000      7.130000     0.140000      7.000000  \n",
       "75%      640.000000    453.075000    192.000000     0.610000      8.000000  \n",
       "max    80352.000000  77259.710000  26864.530000     8.340000      9.000000  "
      ]
     },
     "execution_count": 21,
     "metadata": {},
     "output_type": "execute_result"
    }
   ],
   "source": [
    "df_IvAC.describe()"
   ]
  },
  {
   "cell_type": "code",
   "execution_count": 35,
   "metadata": {},
   "outputs": [
    {
     "data": {
      "text/plain": [
       "<matplotlib.axes._subplots.AxesSubplot at 0x111f2ddd0>"
      ]
     },
     "execution_count": 35,
     "metadata": {},
     "output_type": "execute_result"
    },
    {
     "data": {
      "image/png": "[encoded data removed]",
      "text/plain": [
       "<matplotlib.figure.Figure at 0x11205ab10>"
      ]
     },
     "metadata": {},
     "output_type": "display_data"
    }
   ],
   "source": [
    "varQty = df_IvAC.VarianceQty\n",
    "varQty_pos = df_IvAC[varQty > 0].VarianceQty\n",
    "varQty_neg = df_IvAC[varQty < 0].VarianceQty\n",
    "sns.boxplot(varQty)"
   ]
  },
  {
   "cell_type": "code",
   "execution_count": 36,
   "metadata": {},
   "outputs": [
    {
     "data": {
      "text/plain": [
       "<matplotlib.axes._subplots.AxesSubplot at 0x112155490>"
      ]
     },
     "execution_count": 36,
     "metadata": {},
     "output_type": "execute_result"
    },
    {
     "data": {
      "image/png": "[encoded data removed]",
      "text/plain": [
       "<matplotlib.figure.Figure at 0x111c0cf10>"
      ]
     },
     "metadata": {},
     "output_type": "display_data"
    }
   ],
   "source": [
    "sns.boxplot(varQty_pos)"
   ]
  },
  {
   "cell_type": "code",
   "execution_count": 37,
   "metadata": {},
   "outputs": [
    {
     "data": {
      "text/plain": [
       "<matplotlib.axes._subplots.AxesSubplot at 0x1121f2b90>"
      ]
     },
     "execution_count": 37,
     "metadata": {},
     "output_type": "execute_result"
    },
    {
     "data": {
      "image/png": "[encoded data removed]",
      "text/plain": [
       "<matplotlib.figure.Figure at 0x11205a1d0>"
      ]
     },
     "metadata": {},
     "output_type": "display_data"
    }
   ],
   "source": [
    "sns.boxplot(varQty_neg)"
   ]
  },
  {
   "cell_type": "code",
   "execution_count": 40,
   "metadata": {},
   "outputs": [
    {
     "data": {
      "text/plain": [
       "<matplotlib.axes._subplots.AxesSubplot at 0x11292d110>"
      ]
     },
     "execution_count": 40,
     "metadata": {},
     "output_type": "execute_result"
    },
    {
     "data": {
      "image/png": "[encoded data removed]",
      "text/plain": [
       "<matplotlib.figure.Figure at 0x112278710>"
      ]
     },
     "metadata": {},
     "output_type": "display_data"
    }
   ],
   "source": [
    "sns.distplot(varQty, color='green', norm_hist=True)"
   ]
  },
  {
   "cell_type": "markdown",
   "metadata": {},
   "source": [
    "How many samples have perfect variance (VarianceQty = 0)?"
   ]
  },
  {
   "cell_type": "code",
   "execution_count": 25,
   "metadata": {},
   "outputs": [
    {
     "data": {
      "text/plain": [
       "InventoryID     179\n",
       "ProductID       179\n",
       "BeginQty        179\n",
       "RecQty          179\n",
       "EndQty          179\n",
       "ActualQty       179\n",
       "IdealQty        179\n",
       "VarianceQty     179\n",
       "PricePerQty     179\n",
       "RecMeasureID    179\n",
       "dtype: int64"
      ]
     },
     "execution_count": 25,
     "metadata": {},
     "output_type": "execute_result"
    }
   ],
   "source": [
    "df_IvAC_zeroes = df_IvAC[varQty == 0]\n",
    "df_IvAC_zeroes.count()"
   ]
  },
  {
   "cell_type": "markdown",
   "metadata": {},
   "source": [
    "## Part 2. Rollup MenuItems Dataset"
   ]
  },
  {
   "cell_type": "code",
   "execution_count": null,
   "metadata": {
    "collapsed": true
   },
   "outputs": [],
   "source": []
  }
 ],
 "metadata": {
  "kernelspec": {
   "display_name": "Python 2",
   "language": "python",
   "name": "python2"
  },
  "language_info": {
   "codemirror_mode": {
    "name": "ipython",
    "version": 2
   },
   "file_extension": ".py",
   "mimetype": "text/x-python",
   "name": "python",
   "nbconvert_exporter": "python",
   "pygments_lexer": "ipython2",
   "version": "2.7.13"
  }
 },
 "nbformat": 4,
 "nbformat_minor": 1
}
