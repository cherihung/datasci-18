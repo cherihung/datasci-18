{
 "cells": [
  {
   "cell_type": "markdown",
   "metadata": {},
   "source": [
    "# Final Project Part 3 - Cheri Hung\n"
   ]
  },
  {
   "cell_type": "code",
   "execution_count": 2,
   "metadata": {
    "collapsed": true
   },
   "outputs": [],
   "source": [
    "import pandas as pd\n",
    "import numpy as np\n",
    "import matplotlib.pyplot as plt\n",
    "import statsmodels.api as sm\n",
    "import pylab as pl\n",
    "import numpy as np\n",
    "import seaborn as sns\n",
    "%matplotlib inline\n",
    "plt.style.use('ggplot')\n"
   ]
  },
  {
   "cell_type": "markdown",
   "metadata": {},
   "source": [
    "### Dataset 1: tb_IdealVActualC_2016_2017_winter.csv\n",
    "\n",
    "#### Ideal Qty vs Actual Qty data from 2016-12-01 to 2017-02-28\n",
    "This is the main data table with *VarianceQty*. It is to be combined with dataset 2."
   ]
  },
  {
   "cell_type": "markdown",
   "metadata": {},
   "source": [
    "| Variable | Description | Type of Variable |\n",
    "|----------|:-------------:|------:|\n",
    "| ProductID |Identifying ingredient ID | discrete numerical ID |\n",
    "| BeginQty | Ingredient qty at the beginning of inventory period | continous numerical |\n",
    "| EndQty | Ingredient qty at the end of inventory period | continous numerical |\n",
    "| ActualQty | Difference between BeginQty and EndQty | continous numerical |\n",
    "| IdealQty | What's the expected difference between BeginQty and EndQty | continous numerical |\n",
    "| VarianceQty | Difference between ActualQty and IdealQty | continous numerical |\n"
   ]
  },
  {
   "cell_type": "code",
   "execution_count": 11,
   "metadata": {},
   "outputs": [
    {
     "data": {
      "text/html": [
       "<div>\n",
       "<table border=\"1\" class=\"dataframe\">\n",
       "  <thead>\n",
       "    <tr style=\"text-align: right;\">\n",
       "      <th></th>\n",
       "      <th>InventoryID</th>\n",
       "      <th>ProductID</th>\n",
       "      <th>BeginQty</th>\n",
       "      <th>RecQty</th>\n",
       "      <th>EndQty</th>\n",
       "      <th>ActualQty</th>\n",
       "      <th>IdealQty</th>\n",
       "      <th>VarianceQty</th>\n",
       "      <th>PricePerQty</th>\n",
       "      <th>RecMeasureID</th>\n",
       "    </tr>\n",
       "  </thead>\n",
       "  <tbody>\n",
       "    <tr>\n",
       "      <th>3356</th>\n",
       "      <td>948</td>\n",
       "      <td>459</td>\n",
       "      <td>4112.000</td>\n",
       "      <td>0.0</td>\n",
       "      <td>2384.000</td>\n",
       "      <td>1728.000</td>\n",
       "      <td>1060.00</td>\n",
       "      <td>668.000</td>\n",
       "      <td>0.13</td>\n",
       "      <td>8</td>\n",
       "    </tr>\n",
       "    <tr>\n",
       "      <th>3357</th>\n",
       "      <td>948</td>\n",
       "      <td>467</td>\n",
       "      <td>1467.168</td>\n",
       "      <td>0.0</td>\n",
       "      <td>779.472</td>\n",
       "      <td>687.696</td>\n",
       "      <td>718.09</td>\n",
       "      <td>-30.394</td>\n",
       "      <td>0.13</td>\n",
       "      <td>8</td>\n",
       "    </tr>\n",
       "    <tr>\n",
       "      <th>3358</th>\n",
       "      <td>948</td>\n",
       "      <td>481</td>\n",
       "      <td>4416.000</td>\n",
       "      <td>0.0</td>\n",
       "      <td>1856.000</td>\n",
       "      <td>2560.000</td>\n",
       "      <td>2007.20</td>\n",
       "      <td>552.800</td>\n",
       "      <td>0.03</td>\n",
       "      <td>7</td>\n",
       "    </tr>\n",
       "    <tr>\n",
       "      <th>3359</th>\n",
       "      <td>948</td>\n",
       "      <td>496</td>\n",
       "      <td>136.000</td>\n",
       "      <td>0.0</td>\n",
       "      <td>78.000</td>\n",
       "      <td>58.000</td>\n",
       "      <td>58.00</td>\n",
       "      <td>0.000</td>\n",
       "      <td>1.03</td>\n",
       "      <td>4</td>\n",
       "    </tr>\n",
       "    <tr>\n",
       "      <th>3360</th>\n",
       "      <td>948</td>\n",
       "      <td>913</td>\n",
       "      <td>81.152</td>\n",
       "      <td>0.0</td>\n",
       "      <td>43.112</td>\n",
       "      <td>38.040</td>\n",
       "      <td>0.00</td>\n",
       "      <td>38.040</td>\n",
       "      <td>0.11</td>\n",
       "      <td>7</td>\n",
       "    </tr>\n",
       "  </tbody>\n",
       "</table>\n",
       "</div>"
      ],
      "text/plain": [
       "      InventoryID  ProductID  BeginQty  RecQty    EndQty  ActualQty  IdealQty  \\\n",
       "3356          948        459  4112.000     0.0  2384.000   1728.000   1060.00   \n",
       "3357          948        467  1467.168     0.0   779.472    687.696    718.09   \n",
       "3358          948        481  4416.000     0.0  1856.000   2560.000   2007.20   \n",
       "3359          948        496   136.000     0.0    78.000     58.000     58.00   \n",
       "3360          948        913    81.152     0.0    43.112     38.040      0.00   \n",
       "\n",
       "      VarianceQty  PricePerQty  RecMeasureID  \n",
       "3356      668.000         0.13             8  \n",
       "3357      -30.394         0.13             8  \n",
       "3358      552.800         0.03             7  \n",
       "3359        0.000         1.03             4  \n",
       "3360       38.040         0.11             7  "
      ]
     },
     "execution_count": 11,
     "metadata": {},
     "output_type": "execute_result"
    }
   ],
   "source": [
    "df_IvAC_raw = pd.read_csv(\"../assets/tb_IdealVActualC_2016_2017_winter.csv\")\n",
    "df_IvAC = df_IvAC_raw.dropna() \n",
    "df_IvAC.tail()"
   ]
  },
  {
   "cell_type": "markdown",
   "metadata": {},
   "source": [
    "## Part 1. Initial Exploration of Key Dataset"
   ]
  },
  {
   "cell_type": "markdown",
   "metadata": {},
   "source": [
    "## Part 2. Rollup MenuItems Dataset"
   ]
  },
  {
   "cell_type": "code",
   "execution_count": null,
   "metadata": {
    "collapsed": true
   },
   "outputs": [],
   "source": []
  }
 ],
 "metadata": {
  "kernelspec": {
   "display_name": "Python 2",
   "language": "python",
   "name": "python2"
  },
  "language_info": {
   "codemirror_mode": {
    "name": "ipython",
    "version": 2
   },
   "file_extension": ".py",
   "mimetype": "text/x-python",
   "name": "python",
   "nbconvert_exporter": "python",
   "pygments_lexer": "ipython2",
   "version": "2.7.13"
  }
 },
 "nbformat": 4,
 "nbformat_minor": 1
}
