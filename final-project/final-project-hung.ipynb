{
 "cells": [
  {
   "cell_type": "markdown",
   "metadata": {},
   "source": [
    "# Final Project Part 3 - Cheri Hung\n"
   ]
  },
  {
   "cell_type": "code",
   "execution_count": 48,
   "metadata": {},
   "outputs": [
    {
     "name": "stdout",
     "output_type": "stream",
     "text": [
      "<sqlite3.Connection object at 0x11c95c200>\n"
     ]
    }
   ],
   "source": [
    "%matplotlib inline\n",
    "\n",
    "import pandas as pd\n",
    "import numpy as np\n",
    "import matplotlib.pyplot as plt\n",
    "import statsmodels.api as sm\n",
    "import pylab as pl\n",
    "import numpy as np\n",
    "import seaborn as sns\n",
    "from pandas.io import sql\n",
    "import sqlite3\n",
    "\n",
    "plt.style.use('ggplot')\n",
    "\n",
    "wd = 'assets/'\n",
    "db_conn = sqlite3.connect(wd+'dev_hung.db')\n",
    "print db_conn"
   ]
  },
  {
   "cell_type": "markdown",
   "metadata": {},
   "source": [
    "## Part 1. Initial Exploration of Key Datasets"
   ]
  },
  {
   "cell_type": "markdown",
   "metadata": {},
   "source": [
    "### Dataset 1: Ideal Cost vs Actual Cost\n",
    "\n",
    "#### Date range: 2016-12-01 to 2017-02-28\n",
    "This is the main data table with *VarianceQty*. It is to be combined with dataset2."
   ]
  },
  {
   "cell_type": "markdown",
   "metadata": {},
   "source": [
    "| Variable | Description | Type of Variable |\n",
    "|----------|:-------------:|------:|\n",
    "| ProductID |Identifying ingredient ID | discrete numerical ID |\n",
    "| BeginQty | Ingredient qty at the beginning of inventory period | continous numerical |\n",
    "| EndQty | Ingredient qty at the end of inventory period | continous numerical |\n",
    "| ActualQty | Difference between BeginQty and EndQty | continous numerical |\n",
    "| IdealQty | What's the expected difference between BeginQty and EndQty | continous numerical |\n",
    "| VarianceQty | Difference between ActualQty and IdealQty | continous numerical |\n"
   ]
  },
  {
   "cell_type": "code",
   "execution_count": 49,
   "metadata": {},
   "outputs": [
    {
     "data": {
      "text/html": [
       "<div>\n",
       "<table border=\"1\" class=\"dataframe\">\n",
       "  <thead>\n",
       "    <tr style=\"text-align: right;\">\n",
       "      <th></th>\n",
       "      <th>InventoryID</th>\n",
       "      <th>ProductID</th>\n",
       "      <th>BeginQty</th>\n",
       "      <th>RecQty</th>\n",
       "      <th>EndQty</th>\n",
       "      <th>ActualQty</th>\n",
       "      <th>IdealQty</th>\n",
       "      <th>VarianceQty</th>\n",
       "      <th>PricePerQty</th>\n",
       "      <th>RecMeasureID</th>\n",
       "    </tr>\n",
       "  </thead>\n",
       "  <tbody>\n",
       "    <tr>\n",
       "      <th>0</th>\n",
       "      <td>12</td>\n",
       "      <td>68</td>\n",
       "      <td>22.929</td>\n",
       "      <td>0.0</td>\n",
       "      <td>18.982</td>\n",
       "      <td>3.947</td>\n",
       "      <td>2.08</td>\n",
       "      <td>1.867</td>\n",
       "      <td>8.34</td>\n",
       "      <td>9</td>\n",
       "    </tr>\n",
       "    <tr>\n",
       "      <th>1</th>\n",
       "      <td>12</td>\n",
       "      <td>459</td>\n",
       "      <td>2768</td>\n",
       "      <td>0.0</td>\n",
       "      <td>1952.000</td>\n",
       "      <td>816</td>\n",
       "      <td>620.00</td>\n",
       "      <td>196.000</td>\n",
       "      <td>0.13</td>\n",
       "      <td>8</td>\n",
       "    </tr>\n",
       "    <tr>\n",
       "      <th>13</th>\n",
       "      <td>17</td>\n",
       "      <td>68</td>\n",
       "      <td>18.982</td>\n",
       "      <td>0.0</td>\n",
       "      <td>91.097</td>\n",
       "      <td>-72.115</td>\n",
       "      <td>2.20</td>\n",
       "      <td>-74.315</td>\n",
       "      <td>8.34</td>\n",
       "      <td>9</td>\n",
       "    </tr>\n",
       "    <tr>\n",
       "      <th>14</th>\n",
       "      <td>17</td>\n",
       "      <td>459</td>\n",
       "      <td>1952</td>\n",
       "      <td>0.0</td>\n",
       "      <td>1152.000</td>\n",
       "      <td>800</td>\n",
       "      <td>672.00</td>\n",
       "      <td>128.000</td>\n",
       "      <td>0.13</td>\n",
       "      <td>8</td>\n",
       "    </tr>\n",
       "    <tr>\n",
       "      <th>15</th>\n",
       "      <td>19</td>\n",
       "      <td>68</td>\n",
       "      <td>91.097</td>\n",
       "      <td>20.0</td>\n",
       "      <td>33.478</td>\n",
       "      <td>77.619</td>\n",
       "      <td>3.11</td>\n",
       "      <td>74.509</td>\n",
       "      <td>8.34</td>\n",
       "      <td>9</td>\n",
       "    </tr>\n",
       "  </tbody>\n",
       "</table>\n",
       "</div>"
      ],
      "text/plain": [
       "    InventoryID  ProductID BeginQty  RecQty    EndQty ActualQty  IdealQty  \\\n",
       "0            12         68   22.929     0.0    18.982     3.947      2.08   \n",
       "1            12        459     2768     0.0  1952.000       816    620.00   \n",
       "13           17         68   18.982     0.0    91.097   -72.115      2.20   \n",
       "14           17        459     1952     0.0  1152.000       800    672.00   \n",
       "15           19         68   91.097    20.0    33.478    77.619      3.11   \n",
       "\n",
       "    VarianceQty  PricePerQty  RecMeasureID  \n",
       "0         1.867         8.34             9  \n",
       "1       196.000         0.13             8  \n",
       "13      -74.315         8.34             9  \n",
       "14      128.000         0.13             8  \n",
       "15       74.509         8.34             9  "
      ]
     },
     "execution_count": 49,
     "metadata": {},
     "output_type": "execute_result"
    }
   ],
   "source": [
    "df_IvAC_raw = sql.read_sql('SELECT * FROM IVActualC', con=db_conn)\n",
    "df_IvAC = df_IvAC_raw.dropna() \n",
    "df_IvAC.head()"
   ]
  },
  {
   "cell_type": "code",
   "execution_count": 50,
   "metadata": {},
   "outputs": [
    {
     "data": {
      "text/html": [
       "<div>\n",
       "<table border=\"1\" class=\"dataframe\">\n",
       "  <thead>\n",
       "    <tr style=\"text-align: right;\">\n",
       "      <th></th>\n",
       "      <th>InventoryID</th>\n",
       "      <th>ProductID</th>\n",
       "      <th>RecQty</th>\n",
       "      <th>EndQty</th>\n",
       "      <th>IdealQty</th>\n",
       "      <th>VarianceQty</th>\n",
       "      <th>PricePerQty</th>\n",
       "      <th>RecMeasureID</th>\n",
       "    </tr>\n",
       "  </thead>\n",
       "  <tbody>\n",
       "    <tr>\n",
       "      <th>count</th>\n",
       "      <td>6142.000000</td>\n",
       "      <td>6142.000000</td>\n",
       "      <td>6142.000000</td>\n",
       "      <td>6142.000000</td>\n",
       "      <td>6142.000000</td>\n",
       "      <td>6142.000000</td>\n",
       "      <td>6142.000000</td>\n",
       "      <td>6142.000000</td>\n",
       "    </tr>\n",
       "    <tr>\n",
       "      <th>mean</th>\n",
       "      <td>485.549332</td>\n",
       "      <td>420.066916</td>\n",
       "      <td>790.191788</td>\n",
       "      <td>1776.515784</td>\n",
       "      <td>670.116254</td>\n",
       "      <td>126.804839</td>\n",
       "      <td>0.510593</td>\n",
       "      <td>6.713123</td>\n",
       "    </tr>\n",
       "    <tr>\n",
       "      <th>std</th>\n",
       "      <td>289.990680</td>\n",
       "      <td>166.852264</td>\n",
       "      <td>5694.582244</td>\n",
       "      <td>3055.235159</td>\n",
       "      <td>4749.967149</td>\n",
       "      <td>2000.435484</td>\n",
       "      <td>0.715652</td>\n",
       "      <td>1.632521</td>\n",
       "    </tr>\n",
       "    <tr>\n",
       "      <th>min</th>\n",
       "      <td>12.000000</td>\n",
       "      <td>24.000000</td>\n",
       "      <td>-2880.000000</td>\n",
       "      <td>0.000000</td>\n",
       "      <td>0.000000</td>\n",
       "      <td>-29576.630000</td>\n",
       "      <td>0.010000</td>\n",
       "      <td>4.000000</td>\n",
       "    </tr>\n",
       "    <tr>\n",
       "      <th>25%</th>\n",
       "      <td>221.000000</td>\n",
       "      <td>334.000000</td>\n",
       "      <td>0.000000</td>\n",
       "      <td>134.000000</td>\n",
       "      <td>11.000000</td>\n",
       "      <td>-24.034000</td>\n",
       "      <td>0.080000</td>\n",
       "      <td>4.000000</td>\n",
       "    </tr>\n",
       "    <tr>\n",
       "      <th>50%</th>\n",
       "      <td>466.000000</td>\n",
       "      <td>456.000000</td>\n",
       "      <td>0.000000</td>\n",
       "      <td>717.856000</td>\n",
       "      <td>112.000000</td>\n",
       "      <td>6.016000</td>\n",
       "      <td>0.160000</td>\n",
       "      <td>7.000000</td>\n",
       "    </tr>\n",
       "    <tr>\n",
       "      <th>75%</th>\n",
       "      <td>743.000000</td>\n",
       "      <td>484.000000</td>\n",
       "      <td>48.000000</td>\n",
       "      <td>2196.656000</td>\n",
       "      <td>447.462500</td>\n",
       "      <td>158.720000</td>\n",
       "      <td>0.720000</td>\n",
       "      <td>8.000000</td>\n",
       "    </tr>\n",
       "    <tr>\n",
       "      <th>max</th>\n",
       "      <td>1002.000000</td>\n",
       "      <td>953.000000</td>\n",
       "      <td>352512.000000</td>\n",
       "      <td>40320.000000</td>\n",
       "      <td>309898.624000</td>\n",
       "      <td>46789.376000</td>\n",
       "      <td>8.340000</td>\n",
       "      <td>9.000000</td>\n",
       "    </tr>\n",
       "  </tbody>\n",
       "</table>\n",
       "</div>"
      ],
      "text/plain": [
       "       InventoryID    ProductID         RecQty        EndQty       IdealQty  \\\n",
       "count  6142.000000  6142.000000    6142.000000   6142.000000    6142.000000   \n",
       "mean    485.549332   420.066916     790.191788   1776.515784     670.116254   \n",
       "std     289.990680   166.852264    5694.582244   3055.235159    4749.967149   \n",
       "min      12.000000    24.000000   -2880.000000      0.000000       0.000000   \n",
       "25%     221.000000   334.000000       0.000000    134.000000      11.000000   \n",
       "50%     466.000000   456.000000       0.000000    717.856000     112.000000   \n",
       "75%     743.000000   484.000000      48.000000   2196.656000     447.462500   \n",
       "max    1002.000000   953.000000  352512.000000  40320.000000  309898.624000   \n",
       "\n",
       "        VarianceQty  PricePerQty  RecMeasureID  \n",
       "count   6142.000000  6142.000000   6142.000000  \n",
       "mean     126.804839     0.510593      6.713123  \n",
       "std     2000.435484     0.715652      1.632521  \n",
       "min   -29576.630000     0.010000      4.000000  \n",
       "25%      -24.034000     0.080000      4.000000  \n",
       "50%        6.016000     0.160000      7.000000  \n",
       "75%      158.720000     0.720000      8.000000  \n",
       "max    46789.376000     8.340000      9.000000  "
      ]
     },
     "execution_count": 50,
     "metadata": {},
     "output_type": "execute_result"
    }
   ],
   "source": [
    "df_IvAC.describe()"
   ]
  },
  {
   "cell_type": "code",
   "execution_count": 51,
   "metadata": {},
   "outputs": [
    {
     "data": {
      "text/plain": [
       "<matplotlib.axes._subplots.AxesSubplot at 0x11c6f8650>"
      ]
     },
     "execution_count": 51,
     "metadata": {},
     "output_type": "execute_result"
    },
    {
     "data": {
      "image/png": "[encoded data removed]",
      "text/plain": [
       "<matplotlib.figure.Figure at 0x11c25aa90>"
      ]
     },
     "metadata": {},
     "output_type": "display_data"
    }
   ],
   "source": [
    "varQty = df_IvAC.VarianceQty\n",
    "varQty_pos = df_IvAC[varQty > 0].VarianceQty\n",
    "varQty_neg = df_IvAC[varQty < 0].VarianceQty\n",
    "sns.boxplot(varQty)"
   ]
  },
  {
   "cell_type": "code",
   "execution_count": 52,
   "metadata": {},
   "outputs": [
    {
     "data": {
      "text/plain": [
       "<matplotlib.axes._subplots.AxesSubplot at 0x11cb0e210>"
      ]
     },
     "execution_count": 52,
     "metadata": {},
     "output_type": "execute_result"
    },
    {
     "data": {
      "image/png": "[encoded data removed]",
      "text/plain": [
       "<matplotlib.figure.Figure at 0x11c83c550>"
      ]
     },
     "metadata": {},
     "output_type": "display_data"
    }
   ],
   "source": [
    "sns.boxplot(varQty_pos)"
   ]
  },
  {
   "cell_type": "code",
   "execution_count": 53,
   "metadata": {},
   "outputs": [
    {
     "data": {
      "text/plain": [
       "<matplotlib.axes._subplots.AxesSubplot at 0x11cd0d990>"
      ]
     },
     "execution_count": 53,
     "metadata": {},
     "output_type": "execute_result"
    },
    {
     "data": {
      "image/png": "[encoded data removed]",
      "text/plain": [
       "<matplotlib.figure.Figure at 0x11cd8b250>"
      ]
     },
     "metadata": {},
     "output_type": "display_data"
    }
   ],
   "source": [
    "sns.boxplot(varQty_neg)"
   ]
  },
  {
   "cell_type": "code",
   "execution_count": 56,
   "metadata": {},
   "outputs": [
    {
     "data": {
      "text/plain": [
       "<matplotlib.axes._subplots.AxesSubplot at 0x119969910>"
      ]
     },
     "execution_count": 56,
     "metadata": {},
     "output_type": "execute_result"
    },
    {
     "data": {
      "image/png": "[encoded data removed]",
      "text/plain": [
       "<matplotlib.figure.Figure at 0x11cdc4090>"
      ]
     },
     "metadata": {},
     "output_type": "display_data"
    }
   ],
   "source": [
    "sns.distplot(varQty_pos, color='green', norm_hist=True)"
   ]
  },
  {
   "cell_type": "markdown",
   "metadata": {},
   "source": [
    "How many samples have perfect variance (VarianceQty = 0)?"
   ]
  },
  {
   "cell_type": "code",
   "execution_count": 55,
   "metadata": {},
   "outputs": [
    {
     "data": {
      "text/plain": [
       "InventoryID     345\n",
       "ProductID       345\n",
       "BeginQty        345\n",
       "RecQty          345\n",
       "EndQty          345\n",
       "ActualQty       345\n",
       "IdealQty        345\n",
       "VarianceQty     345\n",
       "PricePerQty     345\n",
       "RecMeasureID    345\n",
       "dtype: int64"
      ]
     },
     "execution_count": 55,
     "metadata": {},
     "output_type": "execute_result"
    }
   ],
   "source": [
    "df_IvAC_zeroes = df_IvAC[varQty == 0]\n",
    "df_IvAC_zeroes.count()"
   ]
  },
  {
   "cell_type": "markdown",
   "metadata": {},
   "source": [
    "## Part 2. Rollup MenuItems Dataset"
   ]
  },
  {
   "cell_type": "code",
   "execution_count": null,
   "metadata": {
    "collapsed": true
   },
   "outputs": [],
   "source": []
  }
 ],
 "metadata": {
  "kernelspec": {
   "display_name": "Python 2",
   "language": "python",
   "name": "python2"
  },
  "language_info": {
   "codemirror_mode": {
    "name": "ipython",
    "version": 2
   },
   "file_extension": ".py",
   "mimetype": "text/x-python",
   "name": "python",
   "nbconvert_exporter": "python",
   "pygments_lexer": "ipython2",
   "version": "2.7.13"
  }
 },
 "nbformat": 4,
 "nbformat_minor": 1
}
