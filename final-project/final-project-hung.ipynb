{
 "cells": [
  {
   "cell_type": "markdown",
   "metadata": {},
   "source": [
    "# Final Project Part 3 - Cheri Hung\n"
   ]
  },
  {
   "cell_type": "code",
   "execution_count": 1,
   "metadata": {},
   "outputs": [
    {
     "name": "stdout",
     "output_type": "stream",
     "text": [
      "<sqlite3.Connection object at 0x119e79940>\n"
     ]
    }
   ],
   "source": [
    "%matplotlib inline\n",
    "\n",
    "import pandas as pd\n",
    "import numpy as np\n",
    "import matplotlib.pyplot as plt\n",
    "import statsmodels.api as sm\n",
    "import pylab as pl\n",
    "import numpy as np\n",
    "import seaborn as sns\n",
    "from pandas.io import sql\n",
    "import sqlite3\n",
    "\n",
    "plt.style.use('ggplot')\n",
    "\n",
    "wd = 'assets/'\n",
    "db_conn = sqlite3.connect(wd+'dev_hung.db')\n",
    "print db_conn"
   ]
  },
  {
   "cell_type": "markdown",
   "metadata": {},
   "source": [
    "## I. Exploratory Analysis"
   ]
  },
  {
   "cell_type": "markdown",
   "metadata": {},
   "source": [
    "### Dataset 1: Ideal Cost vs Actual Cost, Winter 2016\n",
    "\n",
    "#### Date range: 2016-12-01 to 2017-02-28\n",
    "To account for seasonal trends as a likely covariate affecting the outcome, the initial analysis will be based on the 2016 Winter season. This seasonal dataset also comprises of a majority of the data I have access to."
   ]
  },
  {
   "cell_type": "code",
   "execution_count": 69,
   "metadata": {},
   "outputs": [
    {
     "data": {
      "text/html": [
       "<div>\n",
       "<table border=\"1\" class=\"dataframe\">\n",
       "  <thead>\n",
       "    <tr style=\"text-align: right;\">\n",
       "      <th></th>\n",
       "      <th>InventoryID</th>\n",
       "      <th>ProductID</th>\n",
       "      <th>Date</th>\n",
       "      <th>ProductDescription</th>\n",
       "      <th>VarianceQty</th>\n",
       "      <th>BeginQty</th>\n",
       "      <th>EndQty</th>\n",
       "      <th>ActualQty</th>\n",
       "      <th>IdealQty</th>\n",
       "      <th>CategoryID</th>\n",
       "      <th>Category</th>\n",
       "      <th>ProductType</th>\n",
       "      <th>StoreID</th>\n",
       "    </tr>\n",
       "  </thead>\n",
       "  <tbody>\n",
       "    <tr>\n",
       "      <th>0</th>\n",
       "      <td>453</td>\n",
       "      <td>26</td>\n",
       "      <td>12/8/16 0:00</td>\n",
       "      <td>Tito's Vodka</td>\n",
       "      <td>-67.628</td>\n",
       "      <td>135.256</td>\n",
       "      <td>202.884</td>\n",
       "      <td>-67.628</td>\n",
       "      <td>0.0</td>\n",
       "      <td>11</td>\n",
       "      <td>Liquor</td>\n",
       "      <td>1</td>\n",
       "      <td>15</td>\n",
       "    </tr>\n",
       "    <tr>\n",
       "      <th>2</th>\n",
       "      <td>466</td>\n",
       "      <td>26</td>\n",
       "      <td>12/9/16 0:00</td>\n",
       "      <td>Tito's Vodka</td>\n",
       "      <td>67.628</td>\n",
       "      <td>202.884</td>\n",
       "      <td>135.256</td>\n",
       "      <td>67.628</td>\n",
       "      <td>0.0</td>\n",
       "      <td>11</td>\n",
       "      <td>Liquor</td>\n",
       "      <td>1</td>\n",
       "      <td>15</td>\n",
       "    </tr>\n",
       "  </tbody>\n",
       "</table>\n",
       "</div>"
      ],
      "text/plain": [
       "   InventoryID  ProductID          Date ProductDescription  VarianceQty  \\\n",
       "0          453         26  12/8/16 0:00       Tito's Vodka      -67.628   \n",
       "2          466         26  12/9/16 0:00       Tito's Vodka       67.628   \n",
       "\n",
       "  BeginQty   EndQty ActualQty  IdealQty  CategoryID Category ProductType  \\\n",
       "0  135.256  202.884   -67.628       0.0          11   Liquor           1   \n",
       "2  202.884  135.256    67.628       0.0          11   Liquor           1   \n",
       "\n",
       "   StoreID  \n",
       "0       15  \n",
       "2       15  "
      ]
     },
     "execution_count": 69,
     "metadata": {},
     "output_type": "execute_result"
    }
   ],
   "source": [
    "#create dataframe of the main dataset of a SQL View \n",
    "df_IvAC_winter_raw = sql.read_sql('SELECT * FROM vw_IVActualC_Dates_Categories', con=db_conn)\n",
    "df_IvAC_winter = df_IvAC_winter_raw.dropna()\n",
    "df_IvAC_winter.head(2)"
   ]
  },
  {
   "cell_type": "markdown",
   "metadata": {},
   "source": [
    "| Variable | Description | Type of Variable |\n",
    "|----------|:-------------:|------:|\n",
    "| InventoryID |Identifying inventory ID | discrete numerical ID |\n",
    "| ProductID |Identifying ingredient ID | discrete numerical ID |\n",
    "| Date | Inventory order date | discrete numerical ID |\n",
    "| ProductDescription | Ingredient name | text |\n",
    "| VarianceQty | Difference between ActualQty and IdealQty | continous numerical |\n",
    "| BeginQty | Ingredient qty at the beginning of inventory period | continous numerical |\n",
    "| EndQty | Ingredient qty at the end of inventory period | continous numerical |\n",
    "| ActualQty | Difference between BeginQty and EndQty | continous numerical |\n",
    "| IdealQty | What's the expected difference between BeginQty and EndQty | continous numerical |\n",
    "| CategoryID | category id | discrete numerical ID |\n",
    "| Category | category the ingredient belongs to | text |\n",
    "| ProductType | a general product type. 1=liquor, 2=food, 3=other, 4=merchandise | discrete numerical ID |\n",
    "| StoreID | store that data is associated with | discrete numerical ID |\n"
   ]
  },
  {
   "cell_type": "code",
   "execution_count": 79,
   "metadata": {},
   "outputs": [
    {
     "data": {
      "text/html": [
       "<div>\n",
       "<table border=\"1\" class=\"dataframe\">\n",
       "  <thead>\n",
       "    <tr style=\"text-align: right;\">\n",
       "      <th></th>\n",
       "      <th>CategoryID</th>\n",
       "      <th>Category</th>\n",
       "    </tr>\n",
       "  </thead>\n",
       "  <tbody>\n",
       "    <tr>\n",
       "      <th>0</th>\n",
       "      <td>0</td>\n",
       "      <td>NOT ASSIGNED</td>\n",
       "    </tr>\n",
       "    <tr>\n",
       "      <th>1</th>\n",
       "      <td>1</td>\n",
       "      <td>Meat</td>\n",
       "    </tr>\n",
       "    <tr>\n",
       "      <th>2</th>\n",
       "      <td>2</td>\n",
       "      <td>Produce</td>\n",
       "    </tr>\n",
       "    <tr>\n",
       "      <th>3</th>\n",
       "      <td>3</td>\n",
       "      <td>Dairy</td>\n",
       "    </tr>\n",
       "    <tr>\n",
       "      <th>4</th>\n",
       "      <td>4</td>\n",
       "      <td>Other Food</td>\n",
       "    </tr>\n",
       "    <tr>\n",
       "      <th>5</th>\n",
       "      <td>5</td>\n",
       "      <td>Seafood</td>\n",
       "    </tr>\n",
       "    <tr>\n",
       "      <th>6</th>\n",
       "      <td>6</td>\n",
       "      <td>Poultry</td>\n",
       "    </tr>\n",
       "    <tr>\n",
       "      <th>7</th>\n",
       "      <td>7</td>\n",
       "      <td>Bread</td>\n",
       "    </tr>\n",
       "    <tr>\n",
       "      <th>8</th>\n",
       "      <td>8</td>\n",
       "      <td>NA Beverage</td>\n",
       "    </tr>\n",
       "    <tr>\n",
       "      <th>9</th>\n",
       "      <td>9</td>\n",
       "      <td>Beer</td>\n",
       "    </tr>\n",
       "    <tr>\n",
       "      <th>10</th>\n",
       "      <td>10</td>\n",
       "      <td>Wine</td>\n",
       "    </tr>\n",
       "    <tr>\n",
       "      <th>11</th>\n",
       "      <td>11</td>\n",
       "      <td>Liquor</td>\n",
       "    </tr>\n",
       "    <tr>\n",
       "      <th>12</th>\n",
       "      <td>12</td>\n",
       "      <td>Other-CGS</td>\n",
       "    </tr>\n",
       "    <tr>\n",
       "      <th>13</th>\n",
       "      <td>13</td>\n",
       "      <td>Retail</td>\n",
       "    </tr>\n",
       "    <tr>\n",
       "      <th>14</th>\n",
       "      <td>14</td>\n",
       "      <td>Smallwares</td>\n",
       "    </tr>\n",
       "    <tr>\n",
       "      <th>15</th>\n",
       "      <td>15</td>\n",
       "      <td>Chemical</td>\n",
       "    </tr>\n",
       "    <tr>\n",
       "      <th>16</th>\n",
       "      <td>17</td>\n",
       "      <td>Other</td>\n",
       "    </tr>\n",
       "    <tr>\n",
       "      <th>17</th>\n",
       "      <td>18</td>\n",
       "      <td>Paper</td>\n",
       "    </tr>\n",
       "    <tr>\n",
       "      <th>18</th>\n",
       "      <td>19</td>\n",
       "      <td>Uniforms</td>\n",
       "    </tr>\n",
       "    <tr>\n",
       "      <th>19</th>\n",
       "      <td>20</td>\n",
       "      <td>Crawfish</td>\n",
       "    </tr>\n",
       "    <tr>\n",
       "      <th>20</th>\n",
       "      <td>\\n</td>\n",
       "      <td>None</td>\n",
       "    </tr>\n",
       "  </tbody>\n",
       "</table>\n",
       "</div>"
      ],
      "text/plain": [
       "   CategoryID      Category\n",
       "0           0  NOT ASSIGNED\n",
       "1           1          Meat\n",
       "2           2       Produce\n",
       "3           3         Dairy\n",
       "4           4    Other Food\n",
       "5           5       Seafood\n",
       "6           6       Poultry\n",
       "7           7         Bread\n",
       "8           8   NA Beverage\n",
       "9           9          Beer\n",
       "10         10          Wine\n",
       "11         11        Liquor\n",
       "12         12     Other-CGS\n",
       "13         13        Retail\n",
       "14         14    Smallwares\n",
       "15         15      Chemical\n",
       "16         17         Other\n",
       "17         18         Paper\n",
       "18         19      Uniforms\n",
       "19         20      Crawfish\n",
       "20         \\n          None"
      ]
     },
     "execution_count": 79,
     "metadata": {},
     "output_type": "execute_result"
    }
   ],
   "source": [
    "df_categories = sql.read_sql('SELECT CategoryID, Category FROM Categories', con=db_conn)\n",
    "df_categories"
   ]
  },
  {
   "cell_type": "code",
   "execution_count": 122,
   "metadata": {},
   "outputs": [
    {
     "data": {
      "text/html": [
       "<div>\n",
       "<table border=\"1\" class=\"dataframe\">\n",
       "  <thead>\n",
       "    <tr style=\"text-align: right;\">\n",
       "      <th></th>\n",
       "      <th>InventoryID</th>\n",
       "      <th>ProductID</th>\n",
       "      <th>Date</th>\n",
       "      <th>ProductDescription</th>\n",
       "      <th>VarianceQty</th>\n",
       "      <th>BeginQty</th>\n",
       "      <th>EndQty</th>\n",
       "      <th>ActualQty</th>\n",
       "      <th>IdealQty</th>\n",
       "      <th>CategoryID</th>\n",
       "      <th>Category</th>\n",
       "      <th>ProductType</th>\n",
       "      <th>StoreID</th>\n",
       "    </tr>\n",
       "  </thead>\n",
       "  <tbody>\n",
       "    <tr>\n",
       "      <th>7</th>\n",
       "      <td>943</td>\n",
       "      <td>68</td>\n",
       "      <td>2/24/17 0:00</td>\n",
       "      <td>Spice, Flour Seasoning</td>\n",
       "      <td>0.240</td>\n",
       "      <td>22</td>\n",
       "      <td>19.000</td>\n",
       "      <td>3</td>\n",
       "      <td>2.76</td>\n",
       "      <td>4</td>\n",
       "      <td>Other Food</td>\n",
       "      <td>2</td>\n",
       "      <td>15</td>\n",
       "    </tr>\n",
       "    <tr>\n",
       "      <th>8</th>\n",
       "      <td>406</td>\n",
       "      <td>80</td>\n",
       "      <td>12/2/16 0:00</td>\n",
       "      <td>Sour Cream</td>\n",
       "      <td>34.400</td>\n",
       "      <td>381.6</td>\n",
       "      <td>115.200</td>\n",
       "      <td>266.4</td>\n",
       "      <td>232.00</td>\n",
       "      <td>3</td>\n",
       "      <td>Dairy</td>\n",
       "      <td>2</td>\n",
       "      <td>7</td>\n",
       "    </tr>\n",
       "    <tr>\n",
       "      <th>9</th>\n",
       "      <td>388</td>\n",
       "      <td>85</td>\n",
       "      <td>12/1/16 0:00</td>\n",
       "      <td>Shrimp 21/25</td>\n",
       "      <td>-583.376</td>\n",
       "      <td>2783.92</td>\n",
       "      <td>3367.296</td>\n",
       "      <td>-583.376</td>\n",
       "      <td>0.00</td>\n",
       "      <td>5</td>\n",
       "      <td>Seafood</td>\n",
       "      <td>2</td>\n",
       "      <td>16</td>\n",
       "    </tr>\n",
       "  </tbody>\n",
       "</table>\n",
       "</div>"
      ],
      "text/plain": [
       "   InventoryID  ProductID          Date      ProductDescription  VarianceQty  \\\n",
       "7          943         68  2/24/17 0:00  Spice, Flour Seasoning        0.240   \n",
       "8          406         80  12/2/16 0:00              Sour Cream       34.400   \n",
       "9          388         85  12/1/16 0:00            Shrimp 21/25     -583.376   \n",
       "\n",
       "  BeginQty    EndQty ActualQty  IdealQty  CategoryID    Category ProductType  \\\n",
       "7       22    19.000         3      2.76           4  Other Food           2   \n",
       "8    381.6   115.200     266.4    232.00           3       Dairy           2   \n",
       "9  2783.92  3367.296  -583.376      0.00           5     Seafood           2   \n",
       "\n",
       "   StoreID  \n",
       "7       15  \n",
       "8        7  \n",
       "9       16  "
      ]
     },
     "execution_count": 122,
     "metadata": {},
     "output_type": "execute_result"
    }
   ],
   "source": [
    "ivac_foods = df_IvAC_winter[df_IvAC_winter['ProductType'] == '2']\n",
    "ivac_foods.head(3)"
   ]
  },
  {
   "cell_type": "code",
   "execution_count": 202,
   "metadata": {},
   "outputs": [
    {
     "data": {
      "text/plain": [
       "CategoryID\n",
       "1    293\n",
       "2     12\n",
       "3    145\n",
       "4    251\n",
       "5    231\n",
       "6    406\n",
       "7      1\n",
       "dtype: int64"
      ]
     },
     "execution_count": 202,
     "metadata": {},
     "output_type": "execute_result"
    }
   ],
   "source": [
    "#take a look at the data by category in the Food (product type 2) group\n",
    "ivac_foods_grouped = ivac_foods.groupby('CategoryID')\n",
    "ivac_foods_grouped.size()"
   ]
  },
  {
   "cell_type": "code",
   "execution_count": 181,
   "metadata": {},
   "outputs": [],
   "source": [
    "#poultry category has the most data, let's use that\n",
    "ivac_poultry = df_IvAC_winter[df_IvAC_winter['CategoryID'] == 6] \n",
    "\n",
    "#variance quantity of poultry only in the main dataset\n",
    "varQty_poultry = ivac_poultry.VarianceQty\n",
    "\n",
    "#overage\n",
    "varQty_poultry_pos = ivac_poultry[ivac_poultry.VarianceQty > 0].VarianceQty"
   ]
  },
  {
   "cell_type": "markdown",
   "metadata": {},
   "source": [
    "### Variance Quantity - Main dataset"
   ]
  },
  {
   "cell_type": "code",
   "execution_count": 182,
   "metadata": {},
   "outputs": [
    {
     "data": {
      "text/plain": [
       "<matplotlib.axes._subplots.AxesSubplot at 0x122867810>"
      ]
     },
     "execution_count": 182,
     "metadata": {},
     "output_type": "execute_result"
    },
    {
     "data": {
      "image/png": "[encoded data removed]",
      "text/plain": [
       "<matplotlib.figure.Figure at 0x1227fca90>"
      ]
     },
     "metadata": {},
     "output_type": "display_data"
    }
   ],
   "source": [
    "#variance quantity of the main dataset\n",
    "varQty = df_IvAC_winter.VarianceQty\n",
    "sns.boxplot(varQty)"
   ]
  },
  {
   "cell_type": "markdown",
   "metadata": {},
   "source": [
    "Very sparse boxplot with a lot of significant outliers. So let's see if the data is more streamlined by looking at just the Poultry category."
   ]
  },
  {
   "cell_type": "markdown",
   "metadata": {},
   "source": [
    "### Variance Quantity - Poultry Only"
   ]
  },
  {
   "cell_type": "code",
   "execution_count": 183,
   "metadata": {},
   "outputs": [
    {
     "data": {
      "text/plain": [
       "<matplotlib.axes._subplots.AxesSubplot at 0x1228c7110>"
      ]
     },
     "execution_count": 183,
     "metadata": {},
     "output_type": "execute_result"
    },
    {
     "data": {
      "image/png": "[encoded data removed]",
      "text/plain": [
       "<matplotlib.figure.Figure at 0x122953510>"
      ]
     },
     "metadata": {},
     "output_type": "display_data"
    }
   ],
   "source": [
    "sns.boxplot(varQty_poultry)"
   ]
  },
  {
   "cell_type": "markdown",
   "metadata": {},
   "source": [
    "### Actual Overage i.e. positive variance quantity"
   ]
  },
  {
   "cell_type": "code",
   "execution_count": 184,
   "metadata": {},
   "outputs": [
    {
     "data": {
      "text/plain": [
       "<matplotlib.axes._subplots.AxesSubplot at 0x122a968d0>"
      ]
     },
     "execution_count": 184,
     "metadata": {},
     "output_type": "execute_result"
    },
    {
     "data": {
      "image/png": "[encoded data removed]",
      "text/plain": [
       "<matplotlib.figure.Figure at 0x122ab15d0>"
      ]
     },
     "metadata": {},
     "output_type": "display_data"
    }
   ],
   "source": [
    "sns.boxplot(varQty_poultry_pos)"
   ]
  },
  {
   "cell_type": "code",
   "execution_count": 186,
   "metadata": {},
   "outputs": [
    {
     "data": {
      "text/plain": [
       "<matplotlib.axes._subplots.AxesSubplot at 0x122e7fed0>"
      ]
     },
     "execution_count": 186,
     "metadata": {},
     "output_type": "execute_result"
    },
    {
     "data": {
      "image/png": "[encoded data removed]",
      "text/plain": [
       "<matplotlib.figure.Figure at 0x122e23490>"
      ]
     },
     "metadata": {},
     "output_type": "display_data"
    }
   ],
   "source": [
    "sns.distplot(varQty_poultry_pos, color='green', norm_hist=True)"
   ]
  },
  {
   "cell_type": "code",
   "execution_count": 187,
   "metadata": {},
   "outputs": [
    {
     "data": {
      "text/plain": [
       "<matplotlib.axes._subplots.AxesSubplot at 0x123083290>"
      ]
     },
     "execution_count": 187,
     "metadata": {},
     "output_type": "execute_result"
    },
    {
     "data": {
      "image/png": "[encoded data removed]",
      "text/plain": [
       "<matplotlib.figure.Figure at 0x123033310>"
      ]
     },
     "metadata": {},
     "output_type": "display_data"
    }
   ],
   "source": [
    "sns.distplot(varQty_poultry, color='blue', norm_hist=True)"
   ]
  },
  {
   "cell_type": "code",
   "execution_count": 220,
   "metadata": {},
   "outputs": [],
   "source": [
    "ivac_foods_group = ivac_foods.groupby('ProductID')\n",
    "#chicken_breasts = ivac_foods[ivac_foods['ProductID'] == 459]"
   ]
  },
  {
   "cell_type": "code",
   "execution_count": 223,
   "metadata": {},
   "outputs": [
    {
     "data": {
      "text/plain": [
       "ProductID\n",
       "68       1\n",
       "80       1\n",
       "85     170\n",
       "265     85\n",
       "285      6\n",
       "286     11\n",
       "289      6\n",
       "292      3\n",
       "295     27\n",
       "310      2\n",
       "331     56\n",
       "339     24\n",
       "354      9\n",
       "399     95\n",
       "404      6\n",
       "406     19\n",
       "407     10\n",
       "416      1\n",
       "433     26\n",
       "456     42\n",
       "457      4\n",
       "458    133\n",
       "459    227\n",
       "463      9\n",
       "467     29\n",
       "481     59\n",
       "484      1\n",
       "498      1\n",
       "520     36\n",
       "521     36\n",
       "522     33\n",
       "523      8\n",
       "524     69\n",
       "525      6\n",
       "526     88\n",
       "dtype: int64"
      ]
     },
     "execution_count": 223,
     "metadata": {},
     "output_type": "execute_result"
    }
   ],
   "source": [
    "ivac_foods_group.size()"
   ]
  },
  {
   "cell_type": "markdown",
   "metadata": {},
   "source": [
    "## Part 2. Rollup MenuItems Dataset"
   ]
  },
  {
   "cell_type": "code",
   "execution_count": null,
   "metadata": {
    "collapsed": true
   },
   "outputs": [],
   "source": []
  },
  {
   "cell_type": "code",
   "execution_count": null,
   "metadata": {
    "collapsed": true
   },
   "outputs": [],
   "source": []
  }
 ],
 "metadata": {
  "kernelspec": {
   "display_name": "Python 2",
   "language": "python",
   "name": "python2"
  },
  "language_info": {
   "codemirror_mode": {
    "name": "ipython",
    "version": 2
   },
   "file_extension": ".py",
   "mimetype": "text/x-python",
   "name": "python",
   "nbconvert_exporter": "python",
   "pygments_lexer": "ipython2",
   "version": "2.7.13"
  }
 },
 "nbformat": 4,
 "nbformat_minor": 1
}
