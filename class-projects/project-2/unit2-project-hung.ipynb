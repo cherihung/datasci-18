{
 "cells": [
  {
   "cell_type": "markdown",
   "metadata": {},
   "source": [
    "# Project 2 - Cheri Hung\n",
    "\n",
    "In this project, you will implement the exploratory analysis plan developed in Project 1. This will lay the groundwork for our our first modeling exercise in Project 3."
   ]
  },
  {
   "cell_type": "markdown",
   "metadata": {},
   "source": [
    "### Step 1: Load the python libraries you will need for this project "
   ]
  },
  {
   "cell_type": "code",
   "execution_count": 224,
   "metadata": {
    "collapsed": true
   },
   "outputs": [],
   "source": [
    "#imports\n",
    "from __future__ import division\n",
    "import pandas as pd\n",
    "import numpy as np\n",
    "import matplotlib.pyplot as plt\n",
    "import statsmodels.api as sm\n",
    "import pylab as pl\n",
    "import numpy as np\n",
    "import seaborn as sns\n",
    "%matplotlib inline\n",
    "plt.style.use('ggplot')"
   ]
  },
  {
   "cell_type": "markdown",
   "metadata": {},
   "source": [
    "### Step 2: Read in your data set "
   ]
  },
  {
   "cell_type": "code",
   "execution_count": 225,
   "metadata": {
    "collapsed": false
   },
   "outputs": [
    {
     "name": "stdout",
     "output_type": "stream",
     "text": [
      "   admit    gre   gpa  prestige\n",
      "0      0  380.0  3.61       3.0\n",
      "1      1  660.0  3.67       3.0\n",
      "2      1  800.0  4.00       1.0\n",
      "3      1  640.0  3.19       4.0\n",
      "4      0  520.0  2.93       4.0\n"
     ]
    }
   ],
   "source": [
    "#Read in data from source \n",
    "df_raw = pd.read_csv(\"assets/admissions.csv\")\n",
    "print df_raw.head()"
   ]
  },
  {
   "cell_type": "markdown",
   "metadata": {},
   "source": [
    "## Questions\n",
    "#### Question 1. How many observations are in our dataset? \n"
   ]
  },
  {
   "cell_type": "code",
   "execution_count": 226,
   "metadata": {
    "collapsed": false,
    "scrolled": false
   },
   "outputs": [
    {
     "data": {
      "text/plain": [
       "admit       400\n",
       "gre         398\n",
       "gpa         398\n",
       "prestige    399\n",
       "dtype: int64"
      ]
     },
     "execution_count": 226,
     "metadata": {},
     "output_type": "execute_result"
    }
   ],
   "source": [
    "df_raw.count()"
   ]
  },
  {
   "cell_type": "markdown",
   "metadata": {},
   "source": [
    "Answer: 400"
   ]
  },
  {
   "cell_type": "markdown",
   "metadata": {},
   "source": [
    "#### Question 2. Create a summary table"
   ]
  },
  {
   "cell_type": "code",
   "execution_count": 227,
   "metadata": {
    "collapsed": false
   },
   "outputs": [
    {
     "data": {
      "text/html": [
       "<div>\n",
       "<table border=\"1\" class=\"dataframe\">\n",
       "  <thead>\n",
       "    <tr style=\"text-align: right;\">\n",
       "      <th></th>\n",
       "      <th>admit</th>\n",
       "      <th>gre</th>\n",
       "      <th>gpa</th>\n",
       "      <th>prestige</th>\n",
       "    </tr>\n",
       "  </thead>\n",
       "  <tbody>\n",
       "    <tr>\n",
       "      <th>count</th>\n",
       "      <td>400.000000</td>\n",
       "      <td>398.000000</td>\n",
       "      <td>398.00000</td>\n",
       "      <td>399.000000</td>\n",
       "    </tr>\n",
       "    <tr>\n",
       "      <th>mean</th>\n",
       "      <td>0.317500</td>\n",
       "      <td>588.040201</td>\n",
       "      <td>3.39093</td>\n",
       "      <td>2.486216</td>\n",
       "    </tr>\n",
       "    <tr>\n",
       "      <th>std</th>\n",
       "      <td>0.466087</td>\n",
       "      <td>115.628513</td>\n",
       "      <td>0.38063</td>\n",
       "      <td>0.945333</td>\n",
       "    </tr>\n",
       "    <tr>\n",
       "      <th>min</th>\n",
       "      <td>0.000000</td>\n",
       "      <td>220.000000</td>\n",
       "      <td>2.26000</td>\n",
       "      <td>1.000000</td>\n",
       "    </tr>\n",
       "    <tr>\n",
       "      <th>25%</th>\n",
       "      <td>0.000000</td>\n",
       "      <td>520.000000</td>\n",
       "      <td>3.13000</td>\n",
       "      <td>2.000000</td>\n",
       "    </tr>\n",
       "    <tr>\n",
       "      <th>50%</th>\n",
       "      <td>0.000000</td>\n",
       "      <td>580.000000</td>\n",
       "      <td>3.39500</td>\n",
       "      <td>2.000000</td>\n",
       "    </tr>\n",
       "    <tr>\n",
       "      <th>75%</th>\n",
       "      <td>1.000000</td>\n",
       "      <td>660.000000</td>\n",
       "      <td>3.67000</td>\n",
       "      <td>3.000000</td>\n",
       "    </tr>\n",
       "    <tr>\n",
       "      <th>max</th>\n",
       "      <td>1.000000</td>\n",
       "      <td>800.000000</td>\n",
       "      <td>4.00000</td>\n",
       "      <td>4.000000</td>\n",
       "    </tr>\n",
       "  </tbody>\n",
       "</table>\n",
       "</div>"
      ],
      "text/plain": [
       "            admit         gre        gpa    prestige\n",
       "count  400.000000  398.000000  398.00000  399.000000\n",
       "mean     0.317500  588.040201    3.39093    2.486216\n",
       "std      0.466087  115.628513    0.38063    0.945333\n",
       "min      0.000000  220.000000    2.26000    1.000000\n",
       "25%      0.000000  520.000000    3.13000    2.000000\n",
       "50%      0.000000  580.000000    3.39500    2.000000\n",
       "75%      1.000000  660.000000    3.67000    3.000000\n",
       "max      1.000000  800.000000    4.00000    4.000000"
      ]
     },
     "execution_count": 227,
     "metadata": {},
     "output_type": "execute_result"
    }
   ],
   "source": [
    "df_raw.describe()"
   ]
  },
  {
   "cell_type": "markdown",
   "metadata": {},
   "source": [
    "#### Question 3. Why would GRE have a larger STD than GPA?"
   ]
  },
  {
   "cell_type": "markdown",
   "metadata": {},
   "source": [
    "Answer: The range of possible values for GRE is higher than that of GPA. Therefore a greater possibility for having more deviations."
   ]
  },
  {
   "cell_type": "markdown",
   "metadata": {
    "collapsed": true
   },
   "source": [
    "#### Question 4. Drop data points with missing data\n"
   ]
  },
  {
   "cell_type": "code",
   "execution_count": 228,
   "metadata": {
    "collapsed": false
   },
   "outputs": [
    {
     "data": {
      "text/plain": [
       "admit       397\n",
       "gre         397\n",
       "gpa         397\n",
       "prestige    397\n",
       "dtype: int64"
      ]
     },
     "execution_count": 228,
     "metadata": {},
     "output_type": "execute_result"
    }
   ],
   "source": [
    "df_valid = df_raw[pd.notnull(df_raw.gre) & pd.notnull(df_raw.gpa) & pd.notnull(df_raw.prestige)]\n",
    "df_valid.count()"
   ]
  },
  {
   "cell_type": "markdown",
   "metadata": {
    "collapsed": true
   },
   "source": [
    "#### Question 5. Confirm that you dropped the correct data. How can you tell? "
   ]
  },
  {
   "cell_type": "markdown",
   "metadata": {},
   "source": [
    "Answer: Use .count() to see if the correct number of data points have been dropped. Compare with the raw data count to see."
   ]
  },
  {
   "cell_type": "markdown",
   "metadata": {},
   "source": [
    "#### Question 6. Create box plots for GRE and GPA"
   ]
  },
  {
   "cell_type": "code",
   "execution_count": 229,
   "metadata": {
    "collapsed": false
   },
   "outputs": [
    {
     "data": {
      "text/plain": [
       "<matplotlib.axes._subplots.AxesSubplot at 0x11d6cc7d0>"
      ]
     },
     "execution_count": 229,
     "metadata": {},
     "output_type": "execute_result"
    },
    {
     "data": {
      "image/png": "[encoded data removed]",
      "text/plain": [
       "<matplotlib.figure.Figure at 0x11d6cc110>"
      ]
     },
     "metadata": {},
     "output_type": "display_data"
    }
   ],
   "source": [
    "#boxplot 1 for GRE\n",
    "GRE = df_valid.gre\n",
    "sns.boxplot(GRE)"
   ]
  },
  {
   "cell_type": "code",
   "execution_count": 230,
   "metadata": {
    "collapsed": false
   },
   "outputs": [
    {
     "data": {
      "text/plain": [
       "<matplotlib.axes._subplots.AxesSubplot at 0x11d6ea0d0>"
      ]
     },
     "execution_count": 230,
     "metadata": {},
     "output_type": "execute_result"
    },
    {
     "data": {
      "image/png": "[encoded data removed]",
      "text/plain": [
       "<matplotlib.figure.Figure at 0x11c5b60d0>"
      ]
     },
     "metadata": {},
     "output_type": "display_data"
    }
   ],
   "source": [
    "#boxplot 2 for GPA\n",
    "GPA = df_valid.gpa\n",
    "sns.boxplot(GPA)"
   ]
  },
  {
   "cell_type": "markdown",
   "metadata": {},
   "source": [
    "#### Question 7. What do this plots show?"
   ]
  },
  {
   "cell_type": "markdown",
   "metadata": {},
   "source": [
    "Answer: The boxplots show that both GRE and GPA have a fairly wide range. Both have a small number of outliers. GPA's distribution is skwed left. GRE is also skewing left but only slightly. Both plots show that the middle 50% of each variable is tightly grouped towards a small range."
   ]
  },
  {
   "cell_type": "markdown",
   "metadata": {},
   "source": [
    "#### Question 8. Describe each distribution "
   ]
  },
  {
   "cell_type": "code",
   "execution_count": 231,
   "metadata": {
    "collapsed": false
   },
   "outputs": [
    {
     "data": {
      "text/plain": [
       "<matplotlib.axes._subplots.AxesSubplot at 0x11da4aed0>"
      ]
     },
     "execution_count": 231,
     "metadata": {},
     "output_type": "execute_result"
    },
    {
     "data": {
      "image/png": "[encoded data removed]",
      "text/plain": [
       "<matplotlib.figure.Figure at 0x11d8051d0>"
      ]
     },
     "metadata": {},
     "output_type": "display_data"
    }
   ],
   "source": [
    "# plot the distribution of each variable \n",
    "fig, axs = plt.subplots(ncols=2)\n",
    "sns.distplot(GRE, color='green', ax=axs[0], norm_hist=True)\n",
    "sns.distplot(GPA, color='red', ax=axs[1], norm_hist=True)"
   ]
  },
  {
   "cell_type": "markdown",
   "metadata": {},
   "source": [
    "#### Question 9.  If our model had an assumption of a normal distribution would we meet that requirement? "
   ]
  },
  {
   "cell_type": "markdown",
   "metadata": {},
   "source": [
    "Answer: No. The distributions are skewed."
   ]
  },
  {
   "cell_type": "markdown",
   "metadata": {},
   "source": [
    "#### Question 10.  Does this distribution need correction? If so, why? How? "
   ]
  },
  {
   "cell_type": "markdown",
   "metadata": {},
   "source": [
    "Answer: We may want to normalize the data to be able to compare the two variables on an intuitive level, looking at standard deviation. But I feel that since the dataset itself is not very large, maybe including more data (from previous years) would become more normalized if we could access more. Though that does give us another problem with a time effect. If we were to normalize the distribution, we can either use a z-score normalizing ((data - data mean)/data standard deviation) or min-max scaling ((data - data min)/data max - data min). Or use sklearn to normalize the data."
   ]
  },
  {
   "cell_type": "markdown",
   "metadata": {},
   "source": [
    "#### Question 11. Which of our variables are potentially colinear? "
   ]
  },
  {
   "cell_type": "code",
   "execution_count": 232,
   "metadata": {
    "collapsed": false
   },
   "outputs": [
    {
     "data": {
      "text/plain": [
       "<matplotlib.axes._subplots.AxesSubplot at 0x11dc385d0>"
      ]
     },
     "execution_count": 232,
     "metadata": {},
     "output_type": "execute_result"
    },
    {
     "data": {
      "image/png": "[encoded data removed]",
      "text/plain": [
       "<matplotlib.figure.Figure at 0x11dc40a90>"
      ]
     },
     "metadata": {},
     "output_type": "display_data"
    }
   ],
   "source": [
    "# create a correlation matrix for the data\n",
    "df_corr = df_valid.corr()[df_valid.corr() != 1]\n",
    "sns.heatmap(df_valid.corr(), annot=True, cmap='RdBu')"
   ]
  },
  {
   "cell_type": "markdown",
   "metadata": {},
   "source": [
    "#### Question 12. What did you find?"
   ]
  },
  {
   "cell_type": "markdown",
   "metadata": {},
   "source": [
    "Answer: No variable has an overwhelming colinearity (-1 or 1) with each other or with admit. That GRE and GPA both have almost the same colinearity with the admit outcome. Compartively, presitge has a higher colinearity value than GRE and GPA to admit and has little colinearity with those two variables."
   ]
  },
  {
   "cell_type": "markdown",
   "metadata": {},
   "source": [
    "#### Question 13. Write an analysis plan for exploring the association between grad school admissions rates and prestige of  undergraduate schools."
   ]
  },
  {
   "cell_type": "markdown",
   "metadata": {},
   "source": [
    "Answer: \n",
    "1. Create two samples from the prestige data. One group is of all the students admitted. And one group is of all those who were not admitted. \n",
    "2. Use boxplots to see how the two groups' distributions compares to each other. And then compare with the distribution of all students. Look at the median value of each distribution. \n",
    "3. Try to draw some conclusion from that."
   ]
  },
  {
   "cell_type": "markdown",
   "metadata": {},
   "source": [
    "#### Question 14. What is your hypothesis? "
   ]
  },
  {
   "cell_type": "markdown",
   "metadata": {},
   "source": [
    "Answer: Prestige ratings have a positive correlation to being admitted."
   ]
  },
  {
   "cell_type": "markdown",
   "metadata": {},
   "source": [
    "## Bonus/Advanced"
   ]
  },
  {
   "cell_type": "markdown",
   "metadata": {},
   "source": [
    "#### 1. Bonus: Explore alternatives to dropping obervations with missing data"
   ]
  },
  {
   "cell_type": "markdown",
   "metadata": {},
   "source": [
    "A quicker way but less specified way to drop any row with null value is to use the dropna() function."
   ]
  },
  {
   "cell_type": "code",
   "execution_count": 233,
   "metadata": {
    "collapsed": false
   },
   "outputs": [
    {
     "name": "stdout",
     "output_type": "stream",
     "text": [
      "admit       397\n",
      "gre         397\n",
      "gpa         397\n",
      "prestige    397\n",
      "dtype: int64\n"
     ]
    }
   ],
   "source": [
    "df_dropped = df_raw.dropna()\n",
    "print df_dropped.count()"
   ]
  },
  {
   "cell_type": "markdown",
   "metadata": {},
   "source": [
    "#### 2. Bonus: Log transform the skewed data"
   ]
  },
  {
   "cell_type": "code",
   "execution_count": 234,
   "metadata": {
    "collapsed": false
   },
   "outputs": [
    {
     "data": {
      "text/html": [
       "<div>\n",
       "<table border=\"1\" class=\"dataframe\">\n",
       "  <thead>\n",
       "    <tr style=\"text-align: right;\">\n",
       "      <th></th>\n",
       "      <th>gre</th>\n",
       "      <th>gpa</th>\n",
       "      <th>prestige</th>\n",
       "    </tr>\n",
       "  </thead>\n",
       "  <tbody>\n",
       "    <tr>\n",
       "      <th>0</th>\n",
       "      <td>5.940171</td>\n",
       "      <td>1.283708</td>\n",
       "      <td>3.0</td>\n",
       "    </tr>\n",
       "    <tr>\n",
       "      <th>1</th>\n",
       "      <td>6.492240</td>\n",
       "      <td>1.300192</td>\n",
       "      <td>3.0</td>\n",
       "    </tr>\n",
       "    <tr>\n",
       "      <th>2</th>\n",
       "      <td>6.684612</td>\n",
       "      <td>1.386294</td>\n",
       "      <td>1.0</td>\n",
       "    </tr>\n",
       "    <tr>\n",
       "      <th>3</th>\n",
       "      <td>6.461468</td>\n",
       "      <td>1.160021</td>\n",
       "      <td>4.0</td>\n",
       "    </tr>\n",
       "    <tr>\n",
       "      <th>4</th>\n",
       "      <td>6.253829</td>\n",
       "      <td>1.075002</td>\n",
       "      <td>4.0</td>\n",
       "    </tr>\n",
       "  </tbody>\n",
       "</table>\n",
       "</div>"
      ],
      "text/plain": [
       "        gre       gpa  prestige\n",
       "0  5.940171  1.283708       3.0\n",
       "1  6.492240  1.300192       3.0\n",
       "2  6.684612  1.386294       1.0\n",
       "3  6.461468  1.160021       4.0\n",
       "4  6.253829  1.075002       4.0"
      ]
     },
     "execution_count": 234,
     "metadata": {},
     "output_type": "execute_result"
    }
   ],
   "source": [
    "df_normalized = df_dropped.drop('admit', 1)\n",
    "#df_normalized = np.log(df.gre)\n",
    "skewed_cols = ['gre','gpa']\n",
    "df_normalized[skewed_cols] = df_normalized[skewed_cols].apply(lambda x: np.log(x))\n",
    "df_normalized.head()"
   ]
  },
  {
   "cell_type": "markdown",
   "metadata": {},
   "source": [
    "#### 3. Advanced: Impute missing data"
   ]
  },
  {
   "cell_type": "code",
   "execution_count": 235,
   "metadata": {
    "collapsed": false
   },
   "outputs": [
    {
     "name": "stdout",
     "output_type": "stream",
     "text": [
      "     admit    gre   gpa  prestige\n",
      "187      0    NaN   NaN       2.0\n",
      "212      0    NaN  2.87       2.0\n",
      "236      1  660.0   NaN       NaN\n"
     ]
    }
   ],
   "source": [
    "#look at what data are missing (using not normalized data)\n",
    "df_allNull = df_raw[df_raw.isnull().any(axis=1)]\n",
    "print df_allNull"
   ]
  },
  {
   "cell_type": "code",
   "execution_count": 298,
   "metadata": {
    "collapsed": false
   },
   "outputs": [
    {
     "name": "stdout",
     "output_type": "stream",
     "text": [
      "GRE mean to use for fill:  587.858942065\n",
      "GPA median to use for fill: 3.4\n",
      "Prestige median to use for fill: 2.0\n",
      "admit         0.000000\n",
      "gre         587.858942\n",
      "gpa           3.400000\n",
      "prestige      2.000000\n",
      "Name: 187, dtype: float64\n",
      "admit       400\n",
      "gre         400\n",
      "gpa         400\n",
      "prestige    400\n",
      "dtype: int64\n"
     ]
    }
   ],
   "source": [
    "# one way to do it is to manually calculate the values to use as filler\n",
    "greToFill = df_dropped.gre.mean()\n",
    "gpaToFill = df_dropped.gpa.median()\n",
    "presToFill = df_dropped.prestige.median()\n",
    "print 'GRE mean to use for fill: ', greToFill\n",
    "print 'GPA median to use for fill:', gpaToFill\n",
    "print 'Prestige median to use for fill:', presToFill\n",
    "\n",
    "df_filled = df_raw.copy(deep=True)\n",
    "df_filled['gre'].fillna(greToFill, inplace=True)\n",
    "df_filled['gpa'].fillna(gpaToFill, inplace=True)\n",
    "df_filled['prestige'].fillna(presToFill, inplace=True)\n",
    "\n",
    "#check to see if it worked\n",
    "print df_filled.iloc[187]\n",
    "print df_filled.count()"
   ]
  },
  {
   "cell_type": "code",
   "execution_count": 294,
   "metadata": {
    "collapsed": false
   },
   "outputs": [],
   "source": [
    "#another method trying sklearn library's imputer feature\n",
    "from sklearn.preprocessing import Imputer\n",
    "\n",
    "df_filled_1 = df_raw.copy(deep=True)\n",
    "\n",
    "imp_mean = Imputer(missing_values='NaN', strategy='mean', axis=0)\n",
    "imp_median = Imputer(missing_values='NaN', strategy='median', axis=0)\n",
    "\n",
    "df_filled_1['gre'] = pd.DataFrame(imp_mean.fit_transform(df_filled_1['gre'].values.reshape(-1,1)).tolist())\n",
    "df_filled_1['gpa'] = pd.DataFrame(imp_median.fit_transform(df_filled_1['gpa'].values.reshape(-1,1)).tolist())\n",
    "df_filled_1['prestige'] = pd.DataFrame(imp_median.fit_transform(df_filled_1['prestige'].values.reshape(-1,1)).tolist())\n"
   ]
  },
  {
   "cell_type": "code",
   "execution_count": 299,
   "metadata": {
    "collapsed": false
   },
   "outputs": [
    {
     "name": "stdout",
     "output_type": "stream",
     "text": [
      "admit         0.000000\n",
      "gre         588.040201\n",
      "gpa           3.395000\n",
      "prestige      2.000000\n",
      "Name: 187, dtype: float64\n",
      "admit       400\n",
      "gre         400\n",
      "gpa         400\n",
      "prestige    400\n",
      "dtype: int64\n"
     ]
    }
   ],
   "source": [
    "#check to see if it worked\n",
    "print df_filled_1.iloc[187]\n",
    "print df_filled_1.count()"
   ]
  },
  {
   "cell_type": "markdown",
   "metadata": {},
   "source": [
    "Both worked and results appear to align to each other."
   ]
  }
 ],
 "metadata": {
  "kernelspec": {
   "display_name": "Python 2",
   "language": "python",
   "name": "python2"
  },
  "language_info": {
   "codemirror_mode": {
    "name": "ipython",
    "version": 2
   },
   "file_extension": ".py",
   "mimetype": "text/x-python",
   "name": "python",
   "nbconvert_exporter": "python",
   "pygments_lexer": "ipython2",
   "version": "2.7.13"
  }
 },
 "nbformat": 4,
 "nbformat_minor": 0
}
