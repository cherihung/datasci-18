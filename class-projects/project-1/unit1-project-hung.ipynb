{
 "cells": [
  {
   "cell_type": "markdown",
   "metadata": {},
   "source": [
    "# Project 1 (cheri hung)\n",
    "\n",
    "In this first project you will create a framework to scope out data science projects. This framework will provide you with a guide to develop a well-articulated problem statement and analysis plan that will be robust and reproducible."
   ]
  },
  {
   "cell_type": "markdown",
   "metadata": {},
   "source": [
    "### Read and evaluate the following problem statement: \n",
    "Determine which free-tier customers will covert to paying customers, using demographic data collected at signup (age, gender, location, and profession) and customer useage data (days since last log in, and activity score 1 = active user, 0= inactive user) based on Hooli data from Jan-Apr 2015. \n"
   ]
  },
  {
   "cell_type": "markdown",
   "metadata": {},
   "source": [
    "#### 1. What is the outcome?"
   ]
  },
  {
   "cell_type": "markdown",
   "metadata": {},
   "source": [
    "Answer: conversion to paying customer"
   ]
  },
  {
   "cell_type": "markdown",
   "metadata": {},
   "source": [
    "#### 2. What are the predictors/covariates? "
   ]
  },
  {
   "cell_type": "markdown",
   "metadata": {},
   "source": [
    "Answer: predictors are usage data, activity score and days since last log in. covariates are demographic data, age, gender, location and profession."
   ]
  },
  {
   "cell_type": "markdown",
   "metadata": {},
   "source": [
    "#### 3. What timeframe is this data relevent for?"
   ]
  },
  {
   "cell_type": "markdown",
   "metadata": {},
   "source": [
    "Answer: Jan to Aprial in 2015"
   ]
  },
  {
   "cell_type": "markdown",
   "metadata": {},
   "source": [
    "#### 4. What is the hypothesis?"
   ]
  },
  {
   "cell_type": "markdown",
   "metadata": {},
   "source": [
    "Answer: The more active the user the more likely he/she will convert to paying customer."
   ]
  },
  {
   "cell_type": "markdown",
   "metadata": {},
   "source": [
    "## Let's get started with our dataset"
   ]
  },
  {
   "cell_type": "markdown",
   "metadata": {},
   "source": [
    "#### 1. Create a data dictionary "
   ]
  },
  {
   "cell_type": "markdown",
   "metadata": {},
   "source": [
    "Answer: \n",
    "\n",
    "Variable | Description | Type of Variable\n",
    "---| ---| ---\n",
    "gre | A student's GRE numerical score | continuous\n",
    "gpa | A student's grade-point average | continuous\n",
    "prestige | A student's undergraduate alma mater ranking. 1 is the highest and 4 is the lowest. | categorical\n",
    "admit | Indicates if a student has been admitted. 1 = admitted and 0 = not admitted. | categorical\n"
   ]
  },
  {
   "cell_type": "markdown",
   "metadata": {},
   "source": [
    "We would like to explore the association between X and Y "
   ]
  },
  {
   "cell_type": "markdown",
   "metadata": {},
   "source": [
    "#### 2. What is the outcome?"
   ]
  },
  {
   "cell_type": "markdown",
   "metadata": {},
   "source": [
    "Answer: admit. To see if a student has been admitted or not."
   ]
  },
  {
   "cell_type": "markdown",
   "metadata": {},
   "source": [
    "#### 3. What are the predictors/covariates? "
   ]
  },
  {
   "cell_type": "markdown",
   "metadata": {},
   "source": [
    "Answer: GRE, GPA and Prestige can all be predictors/covariates."
   ]
  },
  {
   "cell_type": "markdown",
   "metadata": {},
   "source": [
    "#### 4. What timeframe is this data relevent for?"
   ]
  },
  {
   "cell_type": "markdown",
   "metadata": {},
   "source": [
    "Answer: The dataset did not specify the exact time. But in general the timeframe is for a particular admission/school year."
   ]
  },
  {
   "cell_type": "markdown",
   "metadata": {},
   "source": [
    "#### 4. What is the hypothesis?"
   ]
  },
  {
   "cell_type": "markdown",
   "metadata": {},
   "source": [
    "Answer: GRE scores, GPA and prestige ranking enable us to predict how likelly a student will be admitted."
   ]
  },
  {
   "cell_type": "markdown",
   "metadata": {},
   "source": [
    "    Using the above information, write a well-formed problem statement. \n",
    "Problem Statement:\n",
    "Using the admissions.csv dataset, determine if any of the predicators (GRE, GPA, Prestige) can be used to predict how likely a student is to be admitted."
   ]
  },
  {
   "cell_type": "markdown",
   "metadata": {},
   "source": [
    "## Problem Statement"
   ]
  },
  {
   "cell_type": "markdown",
   "metadata": {},
   "source": [
    "### Exploratory Analysis Plan"
   ]
  },
  {
   "cell_type": "markdown",
   "metadata": {},
   "source": [
    "Using the lab from a class as a guide, create an exploratory analysis plan. "
   ]
  },
  {
   "cell_type": "markdown",
   "metadata": {},
   "source": [
    "#### 1. What are the goals of the exploratory analysis? "
   ]
  },
  {
   "cell_type": "markdown",
   "metadata": {
    "collapsed": true
   },
   "source": [
    "Answer: \n",
    "To gain an understanding of the dataset's characterstics, such as distributions, trends and tendencies. In addition to analysis of the dataset, we can also see if the data we collected can be reliably used and valid to test our hypothesis. "
   ]
  },
  {
   "cell_type": "markdown",
   "metadata": {},
   "source": [
    "#### 2a. What are the assumptions of the distribution of data? "
   ]
  },
  {
   "cell_type": "markdown",
   "metadata": {},
   "source": [
    "Answer: \n",
    "Assumes the distribution is normal for for GRE and GPA. Prestige is categorical data. Its distribution would not be a normal one. Distribution for outcome in this case would be binomial."
   ]
  },
  {
   "cell_type": "markdown",
   "metadata": {},
   "source": [
    "#### 2b. How will determine the distribution of your data? "
   ]
  },
  {
   "cell_type": "markdown",
   "metadata": {
    "collapsed": true
   },
   "source": [
    "Answer: \n",
    "Remove null value and then plot the distribution. \n",
    "\n",
    "e.g. \n",
    "gre = admissions[pd.notnull(admissions.gre)].gre\n",
    "sns.distplot(gre, color='red')\n",
    "\n",
    "Also, run a 1-sample KS-Test to level of distribution normality on GRE and GPA data.\n",
    "\n",
    "e.g. kstest(gre, 'norm')"
   ]
  },
  {
   "cell_type": "markdown",
   "metadata": {},
   "source": [
    "#### 3a. How might outliers impact your analysis? "
   ]
  },
  {
   "cell_type": "markdown",
   "metadata": {
    "collapsed": true
   },
   "source": [
    "Answer: \n",
    "Students with very low or very high scores will impact calcuation of the mean, range and median. But should not have very significant impact on plotting distribution of the entire set of data. It could have impact if we are sample through the set of data and happen to include the outliers in our sample."
   ]
  },
  {
   "cell_type": "markdown",
   "metadata": {},
   "source": [
    "#### 3b. How will you test for outliers? "
   ]
  },
  {
   "cell_type": "markdown",
   "metadata": {},
   "source": [
    "Answer:\n",
    "Find the IQR of the data and then use that to find low and high fences. Values outside of the low fence are considered minor outliers. Values outside of high fences are major outliers. Another kind of outlier could be null values."
   ]
  },
  {
   "cell_type": "markdown",
   "metadata": {},
   "source": [
    "#### 4a. What is colinearity? "
   ]
  },
  {
   "cell_type": "markdown",
   "metadata": {
    "collapsed": true
   },
   "source": [
    "Answer: \n",
    "Collinearity describes how correlated predicators are to each other."
   ]
  },
  {
   "cell_type": "markdown",
   "metadata": {},
   "source": [
    "#### 4b. How will you test for colinearity? "
   ]
  },
  {
   "cell_type": "markdown",
   "metadata": {},
   "source": [
    "Answer:\n",
    "Easiest way is to use panda and run a .corr() on the data. And then use a graphic library to plot a correlation matrix. \n",
    "\n",
    "e.g. \n",
    "\n",
    "`admissions.corr()` returns a table.\n",
    "\n",
    "`sns.heatmap(admissions.corr(), annot=True, cmap='RdBu')` plots out the result graphically.\n",
    "\n",
    "Check if any of the plot square has a result of or close to 1 or -1 other than the diagonals."
   ]
  },
  {
   "cell_type": "markdown",
   "metadata": {},
   "source": [
    "#### 5. What is your exploratory analysis plan?\n",
    "Using the above information, write an exploratory analysis plan that would allow you or a colleague to reproduce your analysis 1 year from now. "
   ]
  },
  {
   "cell_type": "markdown",
   "metadata": {},
   "source": [
    "Answer: \n",
    "\n",
    "1. Find the general characteristics of your data, including mean, median, range, variance, IQR, the low and high fences. Then determine if there are any outliers by using the fences. Make an assessment as to whether or not those outliers should be excluded.\n",
    "\n",
    "2. Plot out the distributions of each of your factors: GRE, GPA and Prestige. Then determine if GRE and GPA distributions are normal or not by running a KS-Test. (Prestige is categorical so it would have non-normal distribution anyway.) If the distributions are normal, then a Z-Test or T-Test can be used run to determine statistic significance of the data. \n",
    "\n",
    "3. Create a correlation matrix to deteremine collinearity between factors and outcome. Also observe if there are extreme (1 or -1) collinearity between each of the factors.\n",
    "\n",
    "4. Calculate the confidence interval of the data collected. We can randomly sample our data for a high numbero of times, 100 trials for example, and find the mean each time to find the interval. "
   ]
  },
  {
   "cell_type": "markdown",
   "metadata": {},
   "source": [
    "## Bonus Questions:\n",
    "1. Outline your analysis method for predicting your outcome\n",
    "2. Write an alternative problem statement for your dataset\n",
    "3. Articulate the assumptions and risks of the alternative model"
   ]
  },
  {
   "cell_type": "markdown",
   "metadata": {
    "collapsed": true
   },
   "source": [
    "*Q1. Analysis method for predicting outcome:*\n",
    "\n",
    "We want to find the predicator that impacts the most on admission and also to evaluate the predicability of all factors.\n",
    "\n",
    "1. Explore the data - mean, median, range. Find and assess outliers. \n",
    "\n",
    "2. Find the correlation between variables, most notably the one most correlated to the outcome `admit`. Use a correlation matrix to find the collinearity between admit and GRE, GPA and prestige. This will help us pick a column/factor as the starting point for analysis. For example, if GRE has a high colinearity, we start with that column first.\n",
    "\n",
    "3. Deteremine GRE factor's distribution model and find the significance level of that data to make sure we can use it to predict outcome. KS-Test to determine normality first. If KS-Test gives us a p-value between 0 and 0.5/-0.5, then we'll want to go and collect more data or re-collect our data.\n",
    "\n",
    "4. Pull out the rows of data of students who were admitted (admit = 1). Find the median and use that to formulate the null hypothesis. For example, the null hypothesis can be formulated as \"600 is the median GRE score for all students admitted. Therefore, any student with a GRE score above 600 is highly likely to be admitted.\" \n",
    "\n",
    "5. Test how robust that point estimate is and if our null hypothesis can be accepted by calculating the confidence interval. Sample the data of students admitted 100 times and find the confidence interval to see the estimated median can be used to predict outcome.\n",
    "\n",
    "6. If null hypothesis continues to hold true after tests, we still have to take into account of colinearity. The correlation matrix we previously ran should provide insight here. Collinearity almost always exist. For example, in our dataset, GRE and GPA both have a 0.18 colinearity to admit and a medium colinearity (about 0.38) to each other. So we should run more tests based on GPA factor to see if a null hypothesis based on a median GPA can also be used. "
   ]
  },
  {
   "cell_type": "markdown",
   "metadata": {},
   "source": [
    "*Q2: Alternative problem statement:*\n",
    "\n",
    "Using the admissions.csv dataset, determine which predicator (GRE, GPA, Prestige) can be used to predict how likely a student is to be admitted."
   ]
  },
  {
   "cell_type": "markdown",
   "metadata": {},
   "source": [
    "*Q3: Assumptions and risks of the alternative model:*\n",
    "\n",
    "This alternative statement assumes that any of the 3 predicators is correlated to the outcome. The risk is in not making sure these 3 predicators can indeed be used to predict outcome. There can be other covariates not accounted for in the data and confounding factors."
   ]
  }
 ],
 "metadata": {
  "kernelspec": {
   "display_name": "Python 2",
   "language": "python",
   "name": "python2"
  },
  "language_info": {
   "codemirror_mode": {
    "name": "ipython",
    "version": 2
   },
   "file_extension": ".py",
   "mimetype": "text/x-python",
   "name": "python",
   "nbconvert_exporter": "python",
   "pygments_lexer": "ipython2",
   "version": "2.7.13"
  }
 },
 "nbformat": 4,
 "nbformat_minor": 0
}
