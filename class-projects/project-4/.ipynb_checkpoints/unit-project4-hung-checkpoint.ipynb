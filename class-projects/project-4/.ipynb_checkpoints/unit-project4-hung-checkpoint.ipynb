{
 "cells": [
  {
   "cell_type": "markdown",
   "metadata": {},
   "source": [
    "# Project 4 - Cheri Hung\n",
    "\n",
    "In this project, you will summarize and present your analysis from Projects 1-3."
   ]
  },
  {
   "cell_type": "markdown",
   "metadata": {},
   "source": [
    "### Intro: Write a problem Statement/ Specific Aim for this project"
   ]
  },
  {
   "cell_type": "markdown",
   "metadata": {},
   "source": [
    "Answer: To predict the odds of being admitted to graduate school based on an applicant's GPA, GRE and how prestige his/her undergraduate school is ranked."
   ]
  },
  {
   "cell_type": "markdown",
   "metadata": {},
   "source": [
    "### Dataset:  Write up a description of your data and any cleaning that was completed"
   ]
  },
  {
   "cell_type": "markdown",
   "metadata": {},
   "source": [
    "Answer: The data is a hypothetical dataset provided by UCLA. Data points with null values were dropped. The dataset contains 400 records with 3 records missing a value for one or more variables. Since there are only 3 out of 400 null data points, they are decidedly dropped instead of being filled in with imputed data. There is no clear timeframe associated with this dataset."
   ]
  },
  {
   "cell_type": "markdown",
   "metadata": {
    "collapsed": true
   },
   "source": [
    "### Demo: Provide a table that explains the data by admission status"
   ]
  },
  {
   "cell_type": "markdown",
   "metadata": {},
   "source": [
    "Mean (STD) or counts by admission status for each variable \n",
    "\n",
    "| Not Admitted | Admitted\n",
    "---| ---|---\n",
    "GPA | mean(std)  | mean(std)\n",
    "GRE |mean(std) | mean(std)\n",
    "Prestige 1 | frequency (%) | frequency (%)\n",
    "Prestige 2 | frequency (%) | frequency (%)\n",
    "Prestige 3 |frequency (%) | frequency (%)\n",
    "Prestige 4 |frequency (%) | frequency (%)"
   ]
  },
  {
   "cell_type": "code",
   "execution_count": 616,
   "metadata": {},
   "outputs": [],
   "source": [
    "%matplotlib inline\n",
    "import matplotlib.pyplot as plt\n",
    "import pandas as pd\n",
    "import statsmodels.api as sm\n",
    "import pylab as pl\n",
    "import numpy as np\n",
    "\n",
    "df = pd.read_csv(\"../assets/admissions.csv\")\n",
    "df = df.dropna()\n",
    "\n",
    "def add_prefix_to_index(x):\n",
    "    return 'Prestige '+str(int(x))\n",
    "\n",
    "def calc_percentage(x, sum):\n",
    "    return str(round((x / float(sum)), 4) * 100)+'%'\n",
    "\n",
    "#Admitted\n",
    "df_admit = df[df['admit'] == 1] \n",
    "df_a_presCount = df_admit.groupby('prestige').size() #group by prestige\n",
    "df_a_mean = df_admit.describe()[['gre', 'gpa']].loc['mean']\n",
    "\n",
    "#Not Admitted\n",
    "df_notadmit = df[df['admit'] == 0]\n",
    "df_n_presCount = df_notadmit.groupby('prestige').size() #group by prestige\n",
    "df_n_mean = df_notadmit.describe()[['gre', 'gpa']].loc['mean']\n",
    "\n",
    "#Transform Prestige values for joined table display\n",
    "df_a_presCount = df_a_presCount.rename(lambda x: add_prefix_to_index(x))\n",
    "df_a_presCount = df_a_presCount.apply(lambda x: calc_percentage(x, df_a_presCount.sum()))\n",
    "df_n_presCount = df_n_presCount.rename(lambda x: add_prefix_to_index(x))\n",
    "df_n_presCount = df_n_presCount.apply(lambda x: calc_percentage(x, df_n_presCount.sum()))\n",
    "\n",
    "summary_table = pd.DataFrame({'GRE':[round(df_n_mean.gre, 2), round(df_a_mean.gre, 2)], \n",
    "                              'GPA':[round(df_n_mean.gpa, 2), round(df_a_mean.gpa, 2)]}, \n",
    "             index=['Not Admitted', 'Admitted'])"
   ]
  },
  {
   "cell_type": "markdown",
   "metadata": {},
   "source": [
    "### GRE/GPA Mean and Prestige Frequency % by Admission Status"
   ]
  },
  {
   "cell_type": "code",
   "execution_count": 617,
   "metadata": {},
   "outputs": [
    {
     "data": {
      "text/html": [
       "<div>\n",
       "<table border=\"1\" class=\"dataframe\">\n",
       "  <thead>\n",
       "    <tr style=\"text-align: right;\">\n",
       "      <th></th>\n",
       "      <th>Not Admitted</th>\n",
       "      <th>Admitted</th>\n",
       "    </tr>\n",
       "  </thead>\n",
       "  <tbody>\n",
       "    <tr>\n",
       "      <th>GPA</th>\n",
       "      <td>3.35</td>\n",
       "      <td>3.49</td>\n",
       "    </tr>\n",
       "    <tr>\n",
       "      <th>GRE</th>\n",
       "      <td>573.58</td>\n",
       "      <td>618.57</td>\n",
       "    </tr>\n",
       "    <tr>\n",
       "      <th>Prestige 1</th>\n",
       "      <td>10.33%</td>\n",
       "      <td>26.19%</td>\n",
       "    </tr>\n",
       "    <tr>\n",
       "      <th>Prestige 2</th>\n",
       "      <td>35.06%</td>\n",
       "      <td>42.06%</td>\n",
       "    </tr>\n",
       "    <tr>\n",
       "      <th>Prestige 3</th>\n",
       "      <td>34.32%</td>\n",
       "      <td>22.22%</td>\n",
       "    </tr>\n",
       "    <tr>\n",
       "      <th>Prestige 4</th>\n",
       "      <td>20.3%</td>\n",
       "      <td>9.52%</td>\n",
       "    </tr>\n",
       "  </tbody>\n",
       "</table>\n",
       "</div>"
      ],
      "text/plain": [
       "           Not Admitted Admitted\n",
       "GPA                3.35     3.49\n",
       "GRE              573.58   618.57\n",
       "Prestige 1       10.33%   26.19%\n",
       "Prestige 2       35.06%   42.06%\n",
       "Prestige 3       34.32%   22.22%\n",
       "Prestige 4        20.3%    9.52%"
      ]
     },
     "execution_count": 617,
     "metadata": {},
     "output_type": "execute_result"
    }
   ],
   "source": [
    "summary_table.join(prestige_count.transpose()).transpose()"
   ]
  },
  {
   "cell_type": "markdown",
   "metadata": {},
   "source": [
    "### Methods: Write up the methods used in your analysis"
   ]
  },
  {
   "cell_type": "markdown",
   "metadata": {},
   "source": [
    "Answer: \n",
    "\n",
    "A **distribution analysis** was performed to determine possible correlation between GRE, GPA scores and admission rates. Both showed a non-normal distribution. Other **exploratory analysis** was performed as well to gain an overview on the dataset.\n",
    "\n",
    "**Colinearity analysis** was then performed to determine which factors may have a correlation with the admit outcome. While no variable has an overwhelming colinearity (-1 or 1) with each other or with admit, the **presitge** factor has a comparatively higher colinearity value than GRE and GPA to admission status and has little colinearity with those two variables. This formed our initial hypothesis that Prestige can be used as a predictor for admission.\n",
    "\n",
    "Finally, to test the hypothesis and create a possible prediction model, a **logistic regression** was performed on the **prestige** factor. Odds ratio was first hand-calculated to gain some intuition on the odds of admission based on prestige. Then, using Statsmodel, a full logistic regression was completed."
   ]
  },
  {
   "cell_type": "markdown",
   "metadata": {},
   "source": [
    "### Results: Write up your results"
   ]
  },
  {
   "cell_type": "markdown",
   "metadata": {},
   "source": [
    "Answer:\n",
    "\n",
    "Based on the logistic regression, there does appear to be a positive correlation between better the prestige and higher the odds of admission. By generating a dataset that controls the GRE and GPA input vaules, we saw that the model does indeed predict a higher odds of being admitted if an applicant is from a more prestigious school. (1=most prestigious, 4=least prestigious)"
   ]
  },
  {
   "cell_type": "markdown",
   "metadata": {},
   "source": [
    "### Visuals: Provide a table or visualization of these results"
   ]
  },
  {
   "cell_type": "markdown",
   "metadata": {},
   "source": [
    "These two charts show an upward trend in odds as GPA and GRE score increases. But we can clearly see that by having attended a better ranked undergraduate school (prestige of 1 or 2) dramatically increases an applicant's chance of being admitted. The starting OR is almost 0.3 points higher for applicants from ranked 1 schools than from ranked 4 schools. (Source: Unit 3 Project)"
   ]
  },
  {
   "cell_type": "markdown",
   "metadata": {},
   "source": [
    "<img src='../assets/regression-chart-gpa.png' height=40% width=40%>"
   ]
  },
  {
   "cell_type": "markdown",
   "metadata": {},
   "source": [
    "<img src='../assets/regression-chart-gre.png' height=40% width=40%>"
   ]
  },
  {
   "cell_type": "markdown",
   "metadata": {},
   "source": [
    "By looking at a snapshot of generated modeling data, we can also see the same result. The table below shows that with the GRE and GPA values remaining the same, the predicted odds of admission (pred_admitted) gets better as the ranking improves. The difference between #1 and #4 prestige is notable enough to rely on this analysis."
   ]
  },
  {
   "cell_type": "markdown",
   "metadata": {},
   "source": [
    "<img src='../assets/table-snapshot.png' height=50% width=50%>"
   ]
  },
  {
   "cell_type": "markdown",
   "metadata": {},
   "source": [
    "### Discussion: Write up your discussion and future steps\n",
    "\n",
    "* Tip for your discussion: Think of our analysis thus far as testing one hypothesis of many in efforts to answer some broader question, philosophical question. Focus on why this matters to someone who knows nothing about data science. \n",
    "* Tip for future steps: Discuss whether your model likely underfits or overfits (in layman's terms), and solutions to fix that problem. Is more data needed? Is different data needed? "
   ]
  },
  {
   "cell_type": "markdown",
   "metadata": {},
   "source": [
    "Answer: \n",
    "\n"
   ]
  }
 ],
 "metadata": {
  "kernelspec": {
   "display_name": "Python 2",
   "language": "python",
   "name": "python2"
  },
  "language_info": {
   "codemirror_mode": {
    "name": "ipython",
    "version": 2
   },
   "file_extension": ".py",
   "mimetype": "text/x-python",
   "name": "python",
   "nbconvert_exporter": "python",
   "pygments_lexer": "ipython2",
   "version": "2.7.13"
  }
 },
 "nbformat": 4,
 "nbformat_minor": 1
}
