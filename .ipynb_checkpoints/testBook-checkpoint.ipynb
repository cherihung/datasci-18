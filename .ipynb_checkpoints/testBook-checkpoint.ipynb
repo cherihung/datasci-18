{
 "cells": [
  {
   "cell_type": "markdown",
   "metadata": {},
   "source": [
    "this is some sample Markdown"
   ]
  },
  {
   "cell_type": "code",
   "execution_count": 11,
   "metadata": {
    "collapsed": false
   },
   "outputs": [
    {
     "name": "stdout",
     "output_type": "stream",
     "text": [
      "value: 0 - 1\n",
      "value: 1 - hey\n",
      "value: 2 - 8828382\n"
     ]
    }
   ],
   "source": [
    "def changePills(o, v):\n",
    "    print \"value:\",o,\"-\",v\n",
    "    return;\n",
    "\n",
    "for idx, val in enumerate(pills):\n",
    "    changePills(idx, val)\n"
   ]
  },
  {
   "cell_type": "code",
   "execution_count": 4,
   "metadata": {
    "collapsed": false
   },
   "outputs": [
    {
     "name": "stdout",
     "output_type": "stream",
     "text": [
      "[[100 200 300]\n",
      " [300 200 100]\n",
      " [  0  20  30]\n",
      " [  0   0   1]]\n"
     ]
    }
   ],
   "source": [
    "from numpy import matrix\n",
    "birds = matrix([[100, 200, 300], [300, 200, 100], [0, 20, 30], [0, 0, 1]])\n",
    "print birds"
   ]
  },
  {
   "cell_type": "code",
   "execution_count": 151,
   "metadata": {
    "collapsed": false
   },
   "outputs": [],
   "source": [
    "%matplotlib inline\n",
    "import pandas as pd\n",
    "import json \n",
    "from itertools import groupby \n",
    "from collections import OrderedDict"
   ]
  },
  {
   "cell_type": "code",
   "execution_count": 174,
   "metadata": {
    "collapsed": false
   },
   "outputs": [
    {
     "name": "stdout",
     "output_type": "stream",
     "text": [
      "Maraschino    47\n",
      "Lemon         47\n",
      "Aqua          47\n",
      "dtype: int64\n",
      "         Maraschino           Lemon        Aqua\n",
      "0               Hot             Tgt    Rollcall\n",
      "1               ROZ          Target   New track\n",
      "2               WEZ         New tgt       Track\n",
      "3           Cleared      New target       Posit\n",
      "4              Clrd     Next target   New track\n",
      "5             9line        Next tgt     Transit\n",
      "6            9-line            Grid       Onsta\n",
      "7         Nine line             Grg      On-sta\n",
      "8             Rifle        Building      On sta\n",
      "9           Release            Bldg   Remaining\n",
      "10         Wpn away        Compound     Off-tgt\n",
      "11        Wpns away            Cmpd     Off tgt\n",
      "12         Wpn-away           8line  Off target\n",
      "13      Weapon-away          8-line      On-tgt\n",
      "14           Impact      Eight line      On tgt\n",
      "15           Splash      Eight-line   On target\n",
      "16              TOF            Sdby     Eyes on\n",
      "17   Time-of-flight           Stdby     Eyes-on\n",
      "18   Time of flight      Friendlies         RTB\n",
      "19            Abort              BF       Rolex\n",
      "20            Shift             IED        Slip\n",
      "21           Engage             Wpn        Bent\n",
      "22       Engagement          Weapon        Sour\n",
      "23           Launch           ISARC       Broke\n",
      "24         Survivor       Condition       Early\n",
      "25  Isolated person  Authentication          FF\n",
      "26             Jack            Feet          Mx\n",
      "27          Unlucky           Fence          Wx\n",
      "28           Rescue          Refuel        JPRC\n",
      "29         Recovery          Texaco         RCC\n",
      "30              SAM          Tanker        PRCC\n",
      "31              Mud              RV            \n",
      "32               SA            Helo            \n",
      "33           Bandit      Helicopter            \n",
      "34            Bogie            ARCT            \n",
      "35            Spike             TOT            \n",
      "36        Shootdown           Bingo            \n",
      "37          15-line           Joker            \n",
      "38          15 line                            \n",
      "39               PJ                            \n",
      "40           Threat                            \n",
      "41          Popcorn                            \n",
      "42              Gun                            \n",
      "43          Missile                            \n",
      "44          Execute                            \n",
      "45           Egress                            \n",
      "46           Recall                            \n"
     ]
    }
   ],
   "source": [
    "df = pd.read_csv(\"keywords.csv\")\n",
    "df.fillna(\"\", inplace=True)\n",
    "print df.count()\n",
    "print df"
   ]
  },
  {
   "cell_type": "code",
   "execution_count": 176,
   "metadata": {
    "collapsed": false
   },
   "outputs": [
    {
     "data": {
      "text/plain": [
       "['Maraschino:{ colors:[\"Hot\",\"ROZ\",\"WEZ\",\"Cleared\",\"Clrd\",\"9line\",\"9-line\",\"Nine line\",\"Rifle\",\"Release\",\"Wpn away\",\"Wpns away\",\"Wpn-away\",\"Weapon-away\",\"Impact\",\"Splash\",\"TOF\",\"Time-of-flight\",\"Time of flight\",\"Abort\",\"Shift\",\"Engage\",\"Engagement\",\"Launch\",\"Survivor\",\"Isolated person\",\"Jack\",\"Unlucky\",\"Rescue\",\"Recovery\",\"SAM\",\"Mud\",\"SA\",\"Bandit\",\"Bogie\",\"Spike\",\"Shootdown\",\"15-line\",\"15 line\",\"PJ\",\"Threat\",\"Popcorn\",\"Gun\",\"Missile\",\"Execute\",\"Egress\",\"Recall\"]}',\n",
       " 'Lemon:{ colors:[\"Tgt\",\"Target\",\"New tgt\",\"New target\",\"Next target\",\"Next tgt\",\"Grid\",\"Grg\",\"Building\",\"Bldg\",\"Compound\",\"Cmpd\",\"8line\",\"8-line\",\"Eight line\",\"Eight-line\",\"Sdby\",\"Stdby\",\"Friendlies\",\"BF\",\"IED\",\"Wpn\",\"Weapon\",\"ISARC\",\"Condition\",\"Authentication\",\"Feet\",\"Fence\",\"Refuel\",\"Texaco\",\"Tanker\",\"RV\",\"Helo\",\"Helicopter\",\"ARCT\",\"TOT\",\"Bingo\",\"Joker\",\"\",\"\",\"\",\"\",\"\",\"\",\"\",\"\",\"\"]}',\n",
       " 'Aqua:{ colors:[\"Rollcall\",\"New track\",\"Track\",\"Posit\",\"New track\",\"Transit\",\"Onsta\",\"On-sta\",\"On sta\",\"Remaining\",\"Off-tgt\",\"Off tgt\",\"Off target\",\"On-tgt\",\"On tgt\",\"On target\",\"Eyes on\",\"Eyes-on\",\"RTB\",\"Rolex\",\"Slip\",\"Bent\",\"Sour\",\"Broke\",\"Early\",\"FF\",\"Mx\",\"Wx\",\"JPRC\",\"RCC\",\"PRCC\",\"\",\"\",\"\",\"\",\"\",\"\",\"\",\"\",\"\",\"\",\"\",\"\",\"\",\"\",\"\",\"\"]}']"
      ]
     },
     "execution_count": 176,
     "metadata": {},
     "output_type": "execute_result"
    }
   ],
   "source": [
    "#json_df = df.to_json(orient=\"columns\")\n",
    "jsons = []\n",
    "for col in df:\n",
    "    list = df[col].to_json(orient=\"values\") \n",
    "    group = str(col)+\":{ colors:\"+list+\"}\";\n",
    "    jsons.append(group)   \n",
    "    #jsons.append(df[col].to_json(orient=\"values\"))\n",
    "\n",
    "jsons\n",
    "#print jsons[0]"
   ]
  },
  {
   "cell_type": "code",
   "execution_count": null,
   "metadata": {
    "collapsed": true
   },
   "outputs": [],
   "source": []
  },
  {
   "cell_type": "code",
   "execution_count": null,
   "metadata": {
    "collapsed": true
   },
   "outputs": [],
   "source": []
  }
 ],
 "metadata": {
  "kernelspec": {
   "display_name": "Python 2",
   "language": "python",
   "name": "python2"
  },
  "language_info": {
   "codemirror_mode": {
    "name": "ipython",
    "version": 2
   },
   "file_extension": ".py",
   "mimetype": "text/x-python",
   "name": "python",
   "nbconvert_exporter": "python",
   "pygments_lexer": "ipython2",
   "version": "2.7.13"
  }
 },
 "nbformat": 4,
 "nbformat_minor": 2
}
